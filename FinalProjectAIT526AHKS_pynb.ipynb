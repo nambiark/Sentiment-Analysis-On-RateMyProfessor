{
  "cells": [
    {
      "cell_type": "code",
      "execution_count": 86,
      "metadata": {
        "colab": {
          "base_uri": "https://localhost:8080/"
        },
        "id": "ad83cef5",
        "outputId": "c4c4e46b-8954-48c1-e188-ef8be96f4b59"
      },
      "outputs": [
        {
          "output_type": "stream",
          "name": "stdout",
          "text": [
            "/content/RateMyProfessor_Sample data.csv\n"
          ]
        },
        {
          "output_type": "stream",
          "name": "stderr",
          "text": [
            "[nltk_data] Downloading package stopwords to /root/nltk_data...\n",
            "[nltk_data]   Package stopwords is already up-to-date!\n"
          ]
        }
      ],
      "source": [
        "##Importing libraries\n",
        "import pandas as pd\n",
        "import os\n",
        "import matplotlib.pyplot as plt\n",
        "import seaborn as sns\n",
        "import nltk\n",
        "from nltk.sentiment.vader import SentimentIntensityAnalyzer\n",
        "from textblob import TextBlob\n",
        "from sklearn.feature_extraction.text import CountVectorizer, TfidfVectorizer\n",
        "from sklearn.preprocessing import StandardScaler\n",
        "from sklearn.model_selection import train_test_split\n",
        "import numpy as np\n",
        "import nltk\n",
        "nltk.download('stopwords')\n",
        "from keras.preprocessing.text import text_to_word_sequence\n",
        "from nltk.tokenize import word_tokenize\n",
        "from nltk.stem import PorterStemmer\n",
        "from nltk.stem import WordNetLemmatizer\n",
        "\n",
        "from nltk.corpus import stopwords\n",
        "from wordcloud import WordCloud\n",
        "\n",
        "path = os.getcwd()+'/RateMyProfessor_Sample data.csv'\n",
        "print(path)"
      ],
      "id": "ad83cef5"
    },
    {
      "cell_type": "code",
      "execution_count": 87,
      "metadata": {
        "colab": {
          "base_uri": "https://localhost:8080/"
        },
        "id": "cd502cad",
        "outputId": "35123e65-29d7-4278-f577-7adb87794cfd"
      },
      "outputs": [
        {
          "output_type": "execute_result",
          "data": {
            "text/plain": [
              "(11492, 51)"
            ]
          },
          "metadata": {},
          "execution_count": 87
        }
      ],
      "source": [
        "##Reading csv files\n",
        "df = pd.read_csv(path, low_memory=False)\n",
        "\n",
        "df.head()\n",
        "\n",
        "df.shape\n",
        "\n",
        "\n"
      ],
      "id": "cd502cad"
    },
    {
      "cell_type": "code",
      "execution_count": 88,
      "metadata": {
        "colab": {
          "base_uri": "https://localhost:8080/",
          "height": 394
        },
        "id": "b6d7dedc",
        "outputId": "806b22ee-e340-4465-adad-4949a89bb35e"
      },
      "outputs": [
        {
          "output_type": "execute_result",
          "data": {
            "text/plain": [
              "       year_since_first_review   star_rating    diff_index   num_student  \\\n",
              "count             11492.000000  11492.000000  11492.000000  11492.000000   \n",
              "mean                  8.028455      3.635929      2.954603     33.988166   \n",
              "std                   3.954705      0.835888      0.779711     34.189715   \n",
              "min                   0.000000      1.000000      1.000000      1.000000   \n",
              "25%                   5.000000      3.000000      2.400000     15.000000   \n",
              "50%                   8.000000      3.700000      3.000000     24.000000   \n",
              "75%                  11.000000      4.300000      3.500000     39.000000   \n",
              "max                  16.000000      5.000000      5.000000    321.000000   \n",
              "\n",
              "       student_star  student_difficult   help_useful  help_not_useful  \\\n",
              "count  11487.000000       11487.000000  11492.000000     11492.000000   \n",
              "mean       3.615914           2.984417      0.291594         0.194048   \n",
              "std        1.450558           1.309371      0.869016         0.753102   \n",
              "min        1.000000           1.000000      0.000000         0.000000   \n",
              "25%        2.500000           2.000000      0.000000         0.000000   \n",
              "50%        4.000000           3.000000      0.000000         0.000000   \n",
              "75%        5.000000           4.000000      0.000000         0.000000   \n",
              "max        5.000000           5.000000      9.000000         9.000000   \n",
              "\n",
              "       word_comment         asian  ...  lots_of_homework  \\\n",
              "count  11484.000000  11491.000000  ...      11491.000000   \n",
              "mean      37.383838      0.023268  ...          0.207032   \n",
              "std       21.224153      0.026928  ...          0.405196   \n",
              "min        1.000000      0.001588  ...          0.000000   \n",
              "25%       19.000000      0.008272  ...          0.000000   \n",
              "50%       39.000000      0.016319  ...          0.000000   \n",
              "75%       57.000000      0.033403  ...          0.000000   \n",
              "max      142.000000      0.388363  ...          1.000000   \n",
              "\n",
              "       accessible_outside_class  lecture_heavy  extra_credit  \\\n",
              "count              11491.000000   11491.000000  11491.000000   \n",
              "mean                   0.139849       0.233139      0.132277   \n",
              "std                    0.346845       0.422848      0.338807   \n",
              "min                    0.000000       0.000000      0.000000   \n",
              "25%                    0.000000       0.000000      0.000000   \n",
              "50%                    0.000000       0.000000      0.000000   \n",
              "75%                    0.000000       0.000000      0.000000   \n",
              "max                    1.000000       1.000000      1.000000   \n",
              "\n",
              "       graded_by_few_things  group_projects    test_heavy  so_many_papers  \\\n",
              "count          11491.000000    11491.000000  11491.000000    11491.000000   \n",
              "mean               0.100687        0.079105      0.103037        0.082586   \n",
              "std                0.300928        0.269915      0.304021        0.275268   \n",
              "min                0.000000        0.000000      0.000000        0.000000   \n",
              "25%                0.000000        0.000000      0.000000        0.000000   \n",
              "50%                0.000000        0.000000      0.000000        0.000000   \n",
              "75%                0.000000        0.000000      0.000000        0.000000   \n",
              "max                1.000000        1.000000      1.000000        1.000000   \n",
              "\n",
              "       beware_of_pop_quizzes  IsCourseOnline  \n",
              "count           11491.000000    11491.000000  \n",
              "mean                0.066922        0.020886  \n",
              "std                 0.249898        0.143009  \n",
              "min                 0.000000        0.000000  \n",
              "25%                 0.000000        0.000000  \n",
              "50%                 0.000000        0.000000  \n",
              "75%                 0.000000        0.000000  \n",
              "max                 1.000000        1.000000  \n",
              "\n",
              "[8 rows x 34 columns]"
            ],
            "text/html": [
              "\n",
              "  <div id=\"df-2dcbda7d-f0f7-499e-b38c-0e972963ae5e\">\n",
              "    <div class=\"colab-df-container\">\n",
              "      <div>\n",
              "<style scoped>\n",
              "    .dataframe tbody tr th:only-of-type {\n",
              "        vertical-align: middle;\n",
              "    }\n",
              "\n",
              "    .dataframe tbody tr th {\n",
              "        vertical-align: top;\n",
              "    }\n",
              "\n",
              "    .dataframe thead th {\n",
              "        text-align: right;\n",
              "    }\n",
              "</style>\n",
              "<table border=\"1\" class=\"dataframe\">\n",
              "  <thead>\n",
              "    <tr style=\"text-align: right;\">\n",
              "      <th></th>\n",
              "      <th>year_since_first_review</th>\n",
              "      <th>star_rating</th>\n",
              "      <th>diff_index</th>\n",
              "      <th>num_student</th>\n",
              "      <th>student_star</th>\n",
              "      <th>student_difficult</th>\n",
              "      <th>help_useful</th>\n",
              "      <th>help_not_useful</th>\n",
              "      <th>word_comment</th>\n",
              "      <th>asian</th>\n",
              "      <th>...</th>\n",
              "      <th>lots_of_homework</th>\n",
              "      <th>accessible_outside_class</th>\n",
              "      <th>lecture_heavy</th>\n",
              "      <th>extra_credit</th>\n",
              "      <th>graded_by_few_things</th>\n",
              "      <th>group_projects</th>\n",
              "      <th>test_heavy</th>\n",
              "      <th>so_many_papers</th>\n",
              "      <th>beware_of_pop_quizzes</th>\n",
              "      <th>IsCourseOnline</th>\n",
              "    </tr>\n",
              "  </thead>\n",
              "  <tbody>\n",
              "    <tr>\n",
              "      <th>count</th>\n",
              "      <td>11492.000000</td>\n",
              "      <td>11492.000000</td>\n",
              "      <td>11492.000000</td>\n",
              "      <td>11492.000000</td>\n",
              "      <td>11487.000000</td>\n",
              "      <td>11487.000000</td>\n",
              "      <td>11492.000000</td>\n",
              "      <td>11492.000000</td>\n",
              "      <td>11484.000000</td>\n",
              "      <td>11491.000000</td>\n",
              "      <td>...</td>\n",
              "      <td>11491.000000</td>\n",
              "      <td>11491.000000</td>\n",
              "      <td>11491.000000</td>\n",
              "      <td>11491.000000</td>\n",
              "      <td>11491.000000</td>\n",
              "      <td>11491.000000</td>\n",
              "      <td>11491.000000</td>\n",
              "      <td>11491.000000</td>\n",
              "      <td>11491.000000</td>\n",
              "      <td>11491.000000</td>\n",
              "    </tr>\n",
              "    <tr>\n",
              "      <th>mean</th>\n",
              "      <td>8.028455</td>\n",
              "      <td>3.635929</td>\n",
              "      <td>2.954603</td>\n",
              "      <td>33.988166</td>\n",
              "      <td>3.615914</td>\n",
              "      <td>2.984417</td>\n",
              "      <td>0.291594</td>\n",
              "      <td>0.194048</td>\n",
              "      <td>37.383838</td>\n",
              "      <td>0.023268</td>\n",
              "      <td>...</td>\n",
              "      <td>0.207032</td>\n",
              "      <td>0.139849</td>\n",
              "      <td>0.233139</td>\n",
              "      <td>0.132277</td>\n",
              "      <td>0.100687</td>\n",
              "      <td>0.079105</td>\n",
              "      <td>0.103037</td>\n",
              "      <td>0.082586</td>\n",
              "      <td>0.066922</td>\n",
              "      <td>0.020886</td>\n",
              "    </tr>\n",
              "    <tr>\n",
              "      <th>std</th>\n",
              "      <td>3.954705</td>\n",
              "      <td>0.835888</td>\n",
              "      <td>0.779711</td>\n",
              "      <td>34.189715</td>\n",
              "      <td>1.450558</td>\n",
              "      <td>1.309371</td>\n",
              "      <td>0.869016</td>\n",
              "      <td>0.753102</td>\n",
              "      <td>21.224153</td>\n",
              "      <td>0.026928</td>\n",
              "      <td>...</td>\n",
              "      <td>0.405196</td>\n",
              "      <td>0.346845</td>\n",
              "      <td>0.422848</td>\n",
              "      <td>0.338807</td>\n",
              "      <td>0.300928</td>\n",
              "      <td>0.269915</td>\n",
              "      <td>0.304021</td>\n",
              "      <td>0.275268</td>\n",
              "      <td>0.249898</td>\n",
              "      <td>0.143009</td>\n",
              "    </tr>\n",
              "    <tr>\n",
              "      <th>min</th>\n",
              "      <td>0.000000</td>\n",
              "      <td>1.000000</td>\n",
              "      <td>1.000000</td>\n",
              "      <td>1.000000</td>\n",
              "      <td>1.000000</td>\n",
              "      <td>1.000000</td>\n",
              "      <td>0.000000</td>\n",
              "      <td>0.000000</td>\n",
              "      <td>1.000000</td>\n",
              "      <td>0.001588</td>\n",
              "      <td>...</td>\n",
              "      <td>0.000000</td>\n",
              "      <td>0.000000</td>\n",
              "      <td>0.000000</td>\n",
              "      <td>0.000000</td>\n",
              "      <td>0.000000</td>\n",
              "      <td>0.000000</td>\n",
              "      <td>0.000000</td>\n",
              "      <td>0.000000</td>\n",
              "      <td>0.000000</td>\n",
              "      <td>0.000000</td>\n",
              "    </tr>\n",
              "    <tr>\n",
              "      <th>25%</th>\n",
              "      <td>5.000000</td>\n",
              "      <td>3.000000</td>\n",
              "      <td>2.400000</td>\n",
              "      <td>15.000000</td>\n",
              "      <td>2.500000</td>\n",
              "      <td>2.000000</td>\n",
              "      <td>0.000000</td>\n",
              "      <td>0.000000</td>\n",
              "      <td>19.000000</td>\n",
              "      <td>0.008272</td>\n",
              "      <td>...</td>\n",
              "      <td>0.000000</td>\n",
              "      <td>0.000000</td>\n",
              "      <td>0.000000</td>\n",
              "      <td>0.000000</td>\n",
              "      <td>0.000000</td>\n",
              "      <td>0.000000</td>\n",
              "      <td>0.000000</td>\n",
              "      <td>0.000000</td>\n",
              "      <td>0.000000</td>\n",
              "      <td>0.000000</td>\n",
              "    </tr>\n",
              "    <tr>\n",
              "      <th>50%</th>\n",
              "      <td>8.000000</td>\n",
              "      <td>3.700000</td>\n",
              "      <td>3.000000</td>\n",
              "      <td>24.000000</td>\n",
              "      <td>4.000000</td>\n",
              "      <td>3.000000</td>\n",
              "      <td>0.000000</td>\n",
              "      <td>0.000000</td>\n",
              "      <td>39.000000</td>\n",
              "      <td>0.016319</td>\n",
              "      <td>...</td>\n",
              "      <td>0.000000</td>\n",
              "      <td>0.000000</td>\n",
              "      <td>0.000000</td>\n",
              "      <td>0.000000</td>\n",
              "      <td>0.000000</td>\n",
              "      <td>0.000000</td>\n",
              "      <td>0.000000</td>\n",
              "      <td>0.000000</td>\n",
              "      <td>0.000000</td>\n",
              "      <td>0.000000</td>\n",
              "    </tr>\n",
              "    <tr>\n",
              "      <th>75%</th>\n",
              "      <td>11.000000</td>\n",
              "      <td>4.300000</td>\n",
              "      <td>3.500000</td>\n",
              "      <td>39.000000</td>\n",
              "      <td>5.000000</td>\n",
              "      <td>4.000000</td>\n",
              "      <td>0.000000</td>\n",
              "      <td>0.000000</td>\n",
              "      <td>57.000000</td>\n",
              "      <td>0.033403</td>\n",
              "      <td>...</td>\n",
              "      <td>0.000000</td>\n",
              "      <td>0.000000</td>\n",
              "      <td>0.000000</td>\n",
              "      <td>0.000000</td>\n",
              "      <td>0.000000</td>\n",
              "      <td>0.000000</td>\n",
              "      <td>0.000000</td>\n",
              "      <td>0.000000</td>\n",
              "      <td>0.000000</td>\n",
              "      <td>0.000000</td>\n",
              "    </tr>\n",
              "    <tr>\n",
              "      <th>max</th>\n",
              "      <td>16.000000</td>\n",
              "      <td>5.000000</td>\n",
              "      <td>5.000000</td>\n",
              "      <td>321.000000</td>\n",
              "      <td>5.000000</td>\n",
              "      <td>5.000000</td>\n",
              "      <td>9.000000</td>\n",
              "      <td>9.000000</td>\n",
              "      <td>142.000000</td>\n",
              "      <td>0.388363</td>\n",
              "      <td>...</td>\n",
              "      <td>1.000000</td>\n",
              "      <td>1.000000</td>\n",
              "      <td>1.000000</td>\n",
              "      <td>1.000000</td>\n",
              "      <td>1.000000</td>\n",
              "      <td>1.000000</td>\n",
              "      <td>1.000000</td>\n",
              "      <td>1.000000</td>\n",
              "      <td>1.000000</td>\n",
              "      <td>1.000000</td>\n",
              "    </tr>\n",
              "  </tbody>\n",
              "</table>\n",
              "<p>8 rows × 34 columns</p>\n",
              "</div>\n",
              "      <button class=\"colab-df-convert\" onclick=\"convertToInteractive('df-2dcbda7d-f0f7-499e-b38c-0e972963ae5e')\"\n",
              "              title=\"Convert this dataframe to an interactive table.\"\n",
              "              style=\"display:none;\">\n",
              "        \n",
              "  <svg xmlns=\"http://www.w3.org/2000/svg\" height=\"24px\"viewBox=\"0 0 24 24\"\n",
              "       width=\"24px\">\n",
              "    <path d=\"M0 0h24v24H0V0z\" fill=\"none\"/>\n",
              "    <path d=\"M18.56 5.44l.94 2.06.94-2.06 2.06-.94-2.06-.94-.94-2.06-.94 2.06-2.06.94zm-11 1L8.5 8.5l.94-2.06 2.06-.94-2.06-.94L8.5 2.5l-.94 2.06-2.06.94zm10 10l.94 2.06.94-2.06 2.06-.94-2.06-.94-.94-2.06-.94 2.06-2.06.94z\"/><path d=\"M17.41 7.96l-1.37-1.37c-.4-.4-.92-.59-1.43-.59-.52 0-1.04.2-1.43.59L10.3 9.45l-7.72 7.72c-.78.78-.78 2.05 0 2.83L4 21.41c.39.39.9.59 1.41.59.51 0 1.02-.2 1.41-.59l7.78-7.78 2.81-2.81c.8-.78.8-2.07 0-2.86zM5.41 20L4 18.59l7.72-7.72 1.47 1.35L5.41 20z\"/>\n",
              "  </svg>\n",
              "      </button>\n",
              "      \n",
              "  <style>\n",
              "    .colab-df-container {\n",
              "      display:flex;\n",
              "      flex-wrap:wrap;\n",
              "      gap: 12px;\n",
              "    }\n",
              "\n",
              "    .colab-df-convert {\n",
              "      background-color: #E8F0FE;\n",
              "      border: none;\n",
              "      border-radius: 50%;\n",
              "      cursor: pointer;\n",
              "      display: none;\n",
              "      fill: #1967D2;\n",
              "      height: 32px;\n",
              "      padding: 0 0 0 0;\n",
              "      width: 32px;\n",
              "    }\n",
              "\n",
              "    .colab-df-convert:hover {\n",
              "      background-color: #E2EBFA;\n",
              "      box-shadow: 0px 1px 2px rgba(60, 64, 67, 0.3), 0px 1px 3px 1px rgba(60, 64, 67, 0.15);\n",
              "      fill: #174EA6;\n",
              "    }\n",
              "\n",
              "    [theme=dark] .colab-df-convert {\n",
              "      background-color: #3B4455;\n",
              "      fill: #D2E3FC;\n",
              "    }\n",
              "\n",
              "    [theme=dark] .colab-df-convert:hover {\n",
              "      background-color: #434B5C;\n",
              "      box-shadow: 0px 1px 3px 1px rgba(0, 0, 0, 0.15);\n",
              "      filter: drop-shadow(0px 1px 2px rgba(0, 0, 0, 0.3));\n",
              "      fill: #FFFFFF;\n",
              "    }\n",
              "  </style>\n",
              "\n",
              "      <script>\n",
              "        const buttonEl =\n",
              "          document.querySelector('#df-2dcbda7d-f0f7-499e-b38c-0e972963ae5e button.colab-df-convert');\n",
              "        buttonEl.style.display =\n",
              "          google.colab.kernel.accessAllowed ? 'block' : 'none';\n",
              "\n",
              "        async function convertToInteractive(key) {\n",
              "          const element = document.querySelector('#df-2dcbda7d-f0f7-499e-b38c-0e972963ae5e');\n",
              "          const dataTable =\n",
              "            await google.colab.kernel.invokeFunction('convertToInteractive',\n",
              "                                                     [key], {});\n",
              "          if (!dataTable) return;\n",
              "\n",
              "          const docLinkHtml = 'Like what you see? Visit the ' +\n",
              "            '<a target=\"_blank\" href=https://colab.research.google.com/notebooks/data_table.ipynb>data table notebook</a>'\n",
              "            + ' to learn more about interactive tables.';\n",
              "          element.innerHTML = '';\n",
              "          dataTable['output_type'] = 'display_data';\n",
              "          await google.colab.output.renderOutput(dataTable, element);\n",
              "          const docLink = document.createElement('div');\n",
              "          docLink.innerHTML = docLinkHtml;\n",
              "          element.appendChild(docLink);\n",
              "        }\n",
              "      </script>\n",
              "    </div>\n",
              "  </div>\n",
              "  "
            ]
          },
          "metadata": {},
          "execution_count": 88
        }
      ],
      "source": [
        "df.describe()"
      ],
      "id": "b6d7dedc"
    },
    {
      "cell_type": "markdown",
      "metadata": {
        "id": "55f9a397"
      },
      "source": [
        "For star_rating we can infer that on averge professors have a rating of 3.64 and sd of 0.8"
      ],
      "id": "55f9a397"
    },
    {
      "cell_type": "code",
      "execution_count": 89,
      "metadata": {
        "colab": {
          "base_uri": "https://localhost:8080/"
        },
        "id": "f809a204",
        "outputId": "6c336d89-1acf-4771-bc30-b508862d25a8"
      },
      "outputs": [
        {
          "output_type": "stream",
          "name": "stdout",
          "text": [
            "(11492, 51)\n",
            "<class 'pandas.core.frame.DataFrame'>\n",
            "RangeIndex: 11492 entries, 0 to 11491\n",
            "Data columns (total 51 columns):\n",
            " #   Column                    Non-Null Count  Dtype  \n",
            "---  ------                    --------------  -----  \n",
            " 0   professor_name            11492 non-null  object \n",
            " 1   school_name               11492 non-null  object \n",
            " 2   department_name           11492 non-null  object \n",
            " 3   local_name                11492 non-null  object \n",
            " 4   state_name                11492 non-null  object \n",
            " 5   year_since_first_review   11492 non-null  float64\n",
            " 6   star_rating               11492 non-null  float64\n",
            " 7   take_again                1763 non-null   object \n",
            " 8   diff_index                11492 non-null  float64\n",
            " 9   tag_professor             6767 non-null   object \n",
            " 10  num_student               11492 non-null  float64\n",
            " 11  post_date                 11487 non-null  object \n",
            " 12  name_onlines              11492 non-null  object \n",
            " 13  name_not_onlines          11489 non-null  object \n",
            " 14  student_star              11487 non-null  float64\n",
            " 15  student_difficult         11487 non-null  float64\n",
            " 16  attence                   2354 non-null   object \n",
            " 17  for_credits               2387 non-null   object \n",
            " 18  would_take_agains         1505 non-null   object \n",
            " 19  grades                    1932 non-null   object \n",
            " 20  help_useful               11492 non-null  float64\n",
            " 21  help_not_useful           11492 non-null  float64\n",
            " 22  comments                  11485 non-null  object \n",
            " 23  word_comment              11484 non-null  float64\n",
            " 24  gender                    11491 non-null  object \n",
            " 25  race                      11491 non-null  object \n",
            " 26  asian                     11491 non-null  float64\n",
            " 27  hispanic                  11491 non-null  float64\n",
            " 28  nh_black                  11491 non-null  float64\n",
            " 29  nh_white                  11491 non-null  float64\n",
            " 30  gives_good_feedback       11491 non-null  float64\n",
            " 31  caring                    11491 non-null  float64\n",
            " 32  respected                 11491 non-null  float64\n",
            " 33  participation_matters     11491 non-null  float64\n",
            " 34  clear_grading_criteria    11491 non-null  float64\n",
            " 35  skip_class                11491 non-null  float64\n",
            " 36  amazing_lectures          11491 non-null  float64\n",
            " 37  inspirational             11491 non-null  float64\n",
            " 38  tough_grader              11491 non-null  float64\n",
            " 39  hilarious                 11491 non-null  float64\n",
            " 40  get_ready_to_read         11491 non-null  float64\n",
            " 41  lots_of_homework          11491 non-null  float64\n",
            " 42  accessible_outside_class  11491 non-null  float64\n",
            " 43  lecture_heavy             11491 non-null  float64\n",
            " 44  extra_credit              11491 non-null  float64\n",
            " 45  graded_by_few_things      11491 non-null  float64\n",
            " 46  group_projects            11491 non-null  float64\n",
            " 47  test_heavy                11491 non-null  float64\n",
            " 48  so_many_papers            11491 non-null  float64\n",
            " 49  beware_of_pop_quizzes     11491 non-null  float64\n",
            " 50  IsCourseOnline            11491 non-null  float64\n",
            "dtypes: float64(34), object(17)\n",
            "memory usage: 4.5+ MB\n",
            "None\n"
          ]
        },
        {
          "output_type": "execute_result",
          "data": {
            "text/plain": [
              "professor_name               object\n",
              "school_name                  object\n",
              "department_name              object\n",
              "local_name                   object\n",
              "state_name                   object\n",
              "year_since_first_review     float64\n",
              "star_rating                 float64\n",
              "take_again                   object\n",
              "diff_index                  float64\n",
              "tag_professor                object\n",
              "num_student                 float64\n",
              "post_date                    object\n",
              "name_onlines                 object\n",
              "name_not_onlines             object\n",
              "student_star                float64\n",
              "student_difficult           float64\n",
              "attence                      object\n",
              "for_credits                  object\n",
              "would_take_agains            object\n",
              "grades                       object\n",
              "help_useful                 float64\n",
              "help_not_useful             float64\n",
              "comments                     object\n",
              "word_comment                float64\n",
              "gender                       object\n",
              "race                         object\n",
              "asian                       float64\n",
              "hispanic                    float64\n",
              "nh_black                    float64\n",
              "nh_white                    float64\n",
              "gives_good_feedback         float64\n",
              "caring                      float64\n",
              "respected                   float64\n",
              "participation_matters       float64\n",
              "clear_grading_criteria      float64\n",
              "skip_class                  float64\n",
              "amazing_lectures            float64\n",
              "inspirational               float64\n",
              "tough_grader                float64\n",
              "hilarious                   float64\n",
              "get_ready_to_read           float64\n",
              "lots_of_homework            float64\n",
              "accessible_outside_class    float64\n",
              "lecture_heavy               float64\n",
              "extra_credit                float64\n",
              "graded_by_few_things        float64\n",
              "group_projects              float64\n",
              "test_heavy                  float64\n",
              "so_many_papers              float64\n",
              "beware_of_pop_quizzes       float64\n",
              "IsCourseOnline              float64\n",
              "dtype: object"
            ]
          },
          "metadata": {},
          "execution_count": 89
        }
      ],
      "source": [
        "print(df.shape)\n",
        "\n",
        "print(df.info())\n",
        "\n",
        "df.dtypes"
      ],
      "id": "f809a204"
    },
    {
      "cell_type": "code",
      "execution_count": 90,
      "metadata": {
        "colab": {
          "base_uri": "https://localhost:8080/"
        },
        "id": "32f84538",
        "outputId": "db7ad901-96d3-4c15-c62a-afd98e352ab3"
      },
      "outputs": [
        {
          "output_type": "execute_result",
          "data": {
            "text/plain": [
              "9"
            ]
          },
          "metadata": {},
          "execution_count": 90
        }
      ],
      "source": [
        "df.duplicated().sum()"
      ],
      "id": "32f84538"
    },
    {
      "cell_type": "code",
      "execution_count": 91,
      "metadata": {
        "colab": {
          "base_uri": "https://localhost:8080/",
          "height": 551
        },
        "id": "153ddf7c",
        "outputId": "6f4e7f54-169a-4a8f-f55c-81accb994800"
      },
      "outputs": [
        {
          "output_type": "execute_result",
          "data": {
            "text/plain": [
              "(array([0.00326314, 0.        , 0.01522798, 0.02610512, 0.        ,\n",
              "        0.02610512, 0.05438566, 0.08810477, 0.07070136, 0.        ,\n",
              "        0.05547337, 0.08157849, 0.07722764, 0.07613992, 0.        ,\n",
              "        0.13378872, 0.31761225, 0.16968326, 0.27736686, 0.        ,\n",
              "        0.2719283 , 0.25234946, 0.34045423, 0.36329621, 0.        ,\n",
              "        0.57104943, 0.26431431, 0.43834842, 0.46227811, 0.        ,\n",
              "        0.28280543, 0.71353985, 0.3872259 , 0.66676819, 0.51340063,\n",
              "        0.        , 0.49273408, 0.50796206, 0.5525583 , 0.        ,\n",
              "        0.41985729, 0.40898016, 0.63631222, 0.68961016, 0.        ,\n",
              "        0.24256004, 0.53297946, 0.61782109, 0.28063   , 0.11747302]),\n",
              " array([1.  , 1.08, 1.16, 1.24, 1.32, 1.4 , 1.48, 1.56, 1.64, 1.72, 1.8 ,\n",
              "        1.88, 1.96, 2.04, 2.12, 2.2 , 2.28, 2.36, 2.44, 2.52, 2.6 , 2.68,\n",
              "        2.76, 2.84, 2.92, 3.  , 3.08, 3.16, 3.24, 3.32, 3.4 , 3.48, 3.56,\n",
              "        3.64, 3.72, 3.8 , 3.88, 3.96, 4.04, 4.12, 4.2 , 4.28, 4.36, 4.44,\n",
              "        4.52, 4.6 , 4.68, 4.76, 4.84, 4.92, 5.  ]),\n",
              " <a list of 50 Patch objects>)"
            ]
          },
          "metadata": {},
          "execution_count": 91
        },
        {
          "output_type": "display_data",
          "data": {
            "text/plain": [
              "<Figure size 432x288 with 1 Axes>"
            ],
            "image/png": "[encoded data removed]"
          },
          "metadata": {
            "needs_background": "light"
          }
        }
      ],
      "source": [
        "plt.hist(df['star_rating'],50,density=True)\n",
        "\n"
      ],
      "id": "153ddf7c"
    },
    {
      "cell_type": "code",
      "execution_count": 92,
      "metadata": {
        "colab": {
          "base_uri": "https://localhost:8080/"
        },
        "id": "9f3f1359",
        "outputId": "a692dba1-5e5d-4f48-88f7-c1466c17eda0"
      },
      "outputs": [
        {
          "output_type": "execute_result",
          "data": {
            "text/plain": [
              "professor_name                 0\n",
              "school_name                    0\n",
              "department_name                0\n",
              "local_name                     0\n",
              "state_name                     0\n",
              "year_since_first_review        0\n",
              "star_rating                    0\n",
              "take_again                  9729\n",
              "diff_index                     0\n",
              "tag_professor               4725\n",
              "num_student                    0\n",
              "post_date                      5\n",
              "name_onlines                   0\n",
              "name_not_onlines               3\n",
              "student_star                   5\n",
              "student_difficult              5\n",
              "attence                     9138\n",
              "for_credits                 9105\n",
              "would_take_agains           9987\n",
              "grades                      9560\n",
              "help_useful                    0\n",
              "help_not_useful                0\n",
              "comments                       7\n",
              "word_comment                   8\n",
              "gender                         1\n",
              "race                           1\n",
              "asian                          1\n",
              "hispanic                       1\n",
              "nh_black                       1\n",
              "nh_white                       1\n",
              "gives_good_feedback            1\n",
              "caring                         1\n",
              "respected                      1\n",
              "participation_matters          1\n",
              "clear_grading_criteria         1\n",
              "skip_class                     1\n",
              "amazing_lectures               1\n",
              "inspirational                  1\n",
              "tough_grader                   1\n",
              "hilarious                      1\n",
              "get_ready_to_read              1\n",
              "lots_of_homework               1\n",
              "accessible_outside_class       1\n",
              "lecture_heavy                  1\n",
              "extra_credit                   1\n",
              "graded_by_few_things           1\n",
              "group_projects                 1\n",
              "test_heavy                     1\n",
              "so_many_papers                 1\n",
              "beware_of_pop_quizzes          1\n",
              "IsCourseOnline                 1\n",
              "dtype: int64"
            ]
          },
          "metadata": {},
          "execution_count": 92
        }
      ],
      "source": [
        "##Checking for missing values\n",
        "df.isnull().sum()"
      ],
      "id": "9f3f1359"
    },
    {
      "cell_type": "code",
      "execution_count": 93,
      "metadata": {
        "id": "2deddbe4"
      },
      "outputs": [],
      "source": [
        "df.drop('take_again', axis=1, inplace=True)\n",
        "df.drop('attence', axis=1, inplace=True)\n",
        "df.drop('for_credits', axis=1, inplace=True)\n",
        "df.drop('would_take_agains',axis=1, inplace=True)\n",
        "df.drop('grades',axis=1, inplace=True)"
      ],
      "id": "2deddbe4"
    },
    {
      "cell_type": "code",
      "execution_count": 94,
      "metadata": {
        "colab": {
          "base_uri": "https://localhost:8080/"
        },
        "id": "a4e2c3fb",
        "outputId": "e2f5d88b-f88f-4dd7-e2e0-1cec84d9f875"
      },
      "outputs": [
        {
          "output_type": "execute_result",
          "data": {
            "text/plain": [
              "professor_name                 0\n",
              "school_name                    0\n",
              "department_name                0\n",
              "local_name                     0\n",
              "state_name                     0\n",
              "year_since_first_review        0\n",
              "star_rating                    0\n",
              "diff_index                     0\n",
              "tag_professor               4725\n",
              "num_student                    0\n",
              "post_date                      5\n",
              "name_onlines                   0\n",
              "name_not_onlines               3\n",
              "student_star                   5\n",
              "student_difficult              5\n",
              "help_useful                    0\n",
              "help_not_useful                0\n",
              "comments                       7\n",
              "word_comment                   8\n",
              "gender                         1\n",
              "race                           1\n",
              "asian                          1\n",
              "hispanic                       1\n",
              "nh_black                       1\n",
              "nh_white                       1\n",
              "gives_good_feedback            1\n",
              "caring                         1\n",
              "respected                      1\n",
              "participation_matters          1\n",
              "clear_grading_criteria         1\n",
              "skip_class                     1\n",
              "amazing_lectures               1\n",
              "inspirational                  1\n",
              "tough_grader                   1\n",
              "hilarious                      1\n",
              "get_ready_to_read              1\n",
              "lots_of_homework               1\n",
              "accessible_outside_class       1\n",
              "lecture_heavy                  1\n",
              "extra_credit                   1\n",
              "graded_by_few_things           1\n",
              "group_projects                 1\n",
              "test_heavy                     1\n",
              "so_many_papers                 1\n",
              "beware_of_pop_quizzes          1\n",
              "IsCourseOnline                 1\n",
              "dtype: int64"
            ]
          },
          "metadata": {},
          "execution_count": 94
        }
      ],
      "source": [
        "df.isnull().sum()\n"
      ],
      "id": "a4e2c3fb"
    },
    {
      "cell_type": "code",
      "execution_count": 95,
      "metadata": {
        "colab": {
          "base_uri": "https://localhost:8080/",
          "height": 394
        },
        "id": "8317e82d",
        "outputId": "8052c988-9ba3-4d96-c4af-993fe1611d58"
      },
      "outputs": [
        {
          "output_type": "execute_result",
          "data": {
            "text/plain": [
              "<matplotlib.axes._subplots.AxesSubplot at 0x7ff65311e0d0>"
            ]
          },
          "metadata": {},
          "execution_count": 95
        },
        {
          "output_type": "display_data",
          "data": {
            "text/plain": [
              "<Figure size 432x288 with 2 Axes>"
            ],
            "image/png": "[encoded data removed]"
          },
          "metadata": {
            "needs_background": "light"
          }
        }
      ],
      "source": [
        "##Heatmap to find correlation between variables\n",
        "\n",
        "sns.heatmap(df.corr())"
      ],
      "id": "8317e82d"
    },
    {
      "cell_type": "markdown",
      "metadata": {
        "id": "7cbea72b"
      },
      "source": [
        "## Student Star rating and years of experience, diff_index exhibit a strong correlation "
      ],
      "id": "7cbea72b"
    },
    {
      "cell_type": "code",
      "execution_count": null,
      "metadata": {
        "colab": {
          "base_uri": "https://localhost:8080/"
        },
        "id": "84320e25",
        "outputId": "36207db2-f543-4c8e-e316-56de097ef23e"
      },
      "outputs": [
        {
          "data": {
            "text/plain": [
              "Index(['professor_name', 'school_name', 'department_name', 'local_name',\n",
              "       'state_name', 'year_since_first_review', 'star_rating', 'diff_index',\n",
              "       'tag_professor', 'num_student', 'post_date', 'name_onlines',\n",
              "       'name_not_onlines', 'student_star', 'student_difficult', 'help_useful',\n",
              "       'help_not_useful', 'comments', 'word_comment', 'gender', 'race',\n",
              "       'asian', 'hispanic', 'nh_black', 'nh_white', 'gives_good_feedback',\n",
              "       'caring', 'respected', 'participation_matters',\n",
              "       'clear_grading_criteria', 'skip_class', 'amazing_lectures',\n",
              "       'inspirational', 'tough_grader', 'hilarious', 'get_ready_to_read',\n",
              "       'lots_of_homework', 'accessible_outside_class', 'lecture_heavy',\n",
              "       'extra_credit', 'graded_by_few_things', 'group_projects', 'test_heavy',\n",
              "       'so_many_papers', 'beware_of_pop_quizzes', 'IsCourseOnline'],\n",
              "      dtype='object')"
            ]
          },
          "execution_count": 11,
          "metadata": {},
          "output_type": "execute_result"
        }
      ],
      "source": [
        "df.columns"
      ],
      "id": "84320e25"
    },
    {
      "cell_type": "code",
      "execution_count": 96,
      "metadata": {
        "id": "b810f437"
      },
      "outputs": [],
      "source": [
        "df['tag_professor'] = df['tag_professor'].fillna('')"
      ],
      "id": "b810f437"
    },
    {
      "cell_type": "code",
      "execution_count": null,
      "metadata": {
        "colab": {
          "base_uri": "https://localhost:8080/"
        },
        "id": "87057ac3",
        "outputId": "89bfd14a-f500-4b9e-99d4-63f52e9188f6"
      },
      "outputs": [
        {
          "name": "stderr",
          "output_type": "stream",
          "text": [
            "[nltk_data] Downloading package vader_lexicon to /root/nltk_data...\n"
          ]
        },
        {
          "data": {
            "text/plain": [
              "True"
            ]
          },
          "execution_count": 13,
          "metadata": {},
          "output_type": "execute_result"
        }
      ],
      "source": [
        "##importing library for Vader\n",
        "\n",
        "nltk.download('vader_lexicon')"
      ],
      "id": "87057ac3"
    },
    {
      "cell_type": "code",
      "execution_count": 97,
      "metadata": {
        "id": "b01bd88e"
      },
      "outputs": [],
      "source": [
        "##Vader Sentiment analysis\n",
        "sid = SentimentIntensityAnalyzer()\n"
      ],
      "id": "b01bd88e"
    },
    {
      "cell_type": "code",
      "execution_count": 98,
      "metadata": {
        "id": "12db717c"
      },
      "outputs": [],
      "source": [
        "for i,row in df.iterrows():\n",
        "    temp =  sid.polarity_scores(str(row['comments']))\n",
        "    df.loc[i,'neg'] = temp['neg']\n",
        "    df.loc[i,'neu'] = temp['neu']\n",
        "    df.loc[i,'pos'] = temp['pos']\n",
        "    df.loc[i,'compound'] = temp['compound']\n"
      ],
      "id": "12db717c"
    },
    {
      "cell_type": "code",
      "execution_count": 99,
      "metadata": {
        "colab": {
          "base_uri": "https://localhost:8080/",
          "height": 560
        },
        "id": "0eef6edd",
        "outputId": "1e13e505-2691-4a76-8bee-7a73c657537c"
      },
      "outputs": [
        {
          "output_type": "execute_result",
          "data": {
            "text/plain": [
              "   professor_name                                 school_name  \\\n",
              "0  Leslie  Looney  University Of Illinois at Urbana-Champaign   \n",
              "1  Leslie  Looney  University Of Illinois at Urbana-Champaign   \n",
              "2  Leslie  Looney  University Of Illinois at Urbana-Champaign   \n",
              "3  Leslie  Looney  University Of Illinois at Urbana-Champaign   \n",
              "4  Leslie  Looney  University Of Illinois at Urbana-Champaign   \n",
              "\n",
              "        department_name                    local_name state_name  \\\n",
              "0  Astronomy department   Champaign\\xe2\\x80\\x93Urbana         IL   \n",
              "1  Astronomy department   Champaign\\xe2\\x80\\x93Urbana         IL   \n",
              "2  Astronomy department   Champaign\\xe2\\x80\\x93Urbana         IL   \n",
              "3  Astronomy department   Champaign\\xe2\\x80\\x93Urbana         IL   \n",
              "4  Astronomy department   Champaign\\xe2\\x80\\x93Urbana         IL   \n",
              "\n",
              "   year_since_first_review  star_rating  diff_index  \\\n",
              "0                     11.0          4.7         2.0   \n",
              "1                     11.0          4.7         2.0   \n",
              "2                     11.0          4.7         2.0   \n",
              "3                     11.0          4.7         2.0   \n",
              "4                     11.0          4.7         2.0   \n",
              "\n",
              "                                       tag_professor  num_student  ...  \\\n",
              "0  Hilarious (2)  GROUP PROJECTS (2)  Gives good ...         26.0  ...   \n",
              "1  Hilarious (2)  GROUP PROJECTS (2)  Gives good ...         26.0  ...   \n",
              "2  Hilarious (2)  GROUP PROJECTS (2)  Gives good ...         26.0  ...   \n",
              "3  Hilarious (2)  GROUP PROJECTS (2)  Gives good ...         26.0  ...   \n",
              "4  Hilarious (2)  GROUP PROJECTS (2)  Gives good ...         26.0  ...   \n",
              "\n",
              "  graded_by_few_things group_projects test_heavy  so_many_papers  \\\n",
              "0                  0.0            1.0        0.0             0.0   \n",
              "1                  0.0            1.0        0.0             0.0   \n",
              "2                  0.0            1.0        0.0             0.0   \n",
              "3                  0.0            1.0        0.0             0.0   \n",
              "4                  0.0            1.0        0.0             0.0   \n",
              "\n",
              "   beware_of_pop_quizzes  IsCourseOnline    neg    neu    pos compound  \n",
              "0                    0.0             0.0  0.022  0.685  0.293   0.9488  \n",
              "1                    0.0             0.0  0.000  0.660  0.340   0.9476  \n",
              "2                    0.0             0.0  0.053  0.531  0.415   0.9325  \n",
              "3                    0.0             0.0  0.035  0.684  0.281   0.9655  \n",
              "4                    0.0             0.0  0.026  0.549  0.426   0.9870  \n",
              "\n",
              "[5 rows x 50 columns]"
            ],
            "text/html": [
              "\n",
              "  <div id=\"df-db886606-671d-44b2-9c31-0d8d0c950bc9\">\n",
              "    <div class=\"colab-df-container\">\n",
              "      <div>\n",
              "<style scoped>\n",
              "    .dataframe tbody tr th:only-of-type {\n",
              "        vertical-align: middle;\n",
              "    }\n",
              "\n",
              "    .dataframe tbody tr th {\n",
              "        vertical-align: top;\n",
              "    }\n",
              "\n",
              "    .dataframe thead th {\n",
              "        text-align: right;\n",
              "    }\n",
              "</style>\n",
              "<table border=\"1\" class=\"dataframe\">\n",
              "  <thead>\n",
              "    <tr style=\"text-align: right;\">\n",
              "      <th></th>\n",
              "      <th>professor_name</th>\n",
              "      <th>school_name</th>\n",
              "      <th>department_name</th>\n",
              "      <th>local_name</th>\n",
              "      <th>state_name</th>\n",
              "      <th>year_since_first_review</th>\n",
              "      <th>star_rating</th>\n",
              "      <th>diff_index</th>\n",
              "      <th>tag_professor</th>\n",
              "      <th>num_student</th>\n",
              "      <th>...</th>\n",
              "      <th>graded_by_few_things</th>\n",
              "      <th>group_projects</th>\n",
              "      <th>test_heavy</th>\n",
              "      <th>so_many_papers</th>\n",
              "      <th>beware_of_pop_quizzes</th>\n",
              "      <th>IsCourseOnline</th>\n",
              "      <th>neg</th>\n",
              "      <th>neu</th>\n",
              "      <th>pos</th>\n",
              "      <th>compound</th>\n",
              "    </tr>\n",
              "  </thead>\n",
              "  <tbody>\n",
              "    <tr>\n",
              "      <th>0</th>\n",
              "      <td>Leslie  Looney</td>\n",
              "      <td>University Of Illinois at Urbana-Champaign</td>\n",
              "      <td>Astronomy department</td>\n",
              "      <td>Champaign\\xe2\\x80\\x93Urbana</td>\n",
              "      <td>IL</td>\n",
              "      <td>11.0</td>\n",
              "      <td>4.7</td>\n",
              "      <td>2.0</td>\n",
              "      <td>Hilarious (2)  GROUP PROJECTS (2)  Gives good ...</td>\n",
              "      <td>26.0</td>\n",
              "      <td>...</td>\n",
              "      <td>0.0</td>\n",
              "      <td>1.0</td>\n",
              "      <td>0.0</td>\n",
              "      <td>0.0</td>\n",
              "      <td>0.0</td>\n",
              "      <td>0.0</td>\n",
              "      <td>0.022</td>\n",
              "      <td>0.685</td>\n",
              "      <td>0.293</td>\n",
              "      <td>0.9488</td>\n",
              "    </tr>\n",
              "    <tr>\n",
              "      <th>1</th>\n",
              "      <td>Leslie  Looney</td>\n",
              "      <td>University Of Illinois at Urbana-Champaign</td>\n",
              "      <td>Astronomy department</td>\n",
              "      <td>Champaign\\xe2\\x80\\x93Urbana</td>\n",
              "      <td>IL</td>\n",
              "      <td>11.0</td>\n",
              "      <td>4.7</td>\n",
              "      <td>2.0</td>\n",
              "      <td>Hilarious (2)  GROUP PROJECTS (2)  Gives good ...</td>\n",
              "      <td>26.0</td>\n",
              "      <td>...</td>\n",
              "      <td>0.0</td>\n",
              "      <td>1.0</td>\n",
              "      <td>0.0</td>\n",
              "      <td>0.0</td>\n",
              "      <td>0.0</td>\n",
              "      <td>0.0</td>\n",
              "      <td>0.000</td>\n",
              "      <td>0.660</td>\n",
              "      <td>0.340</td>\n",
              "      <td>0.9476</td>\n",
              "    </tr>\n",
              "    <tr>\n",
              "      <th>2</th>\n",
              "      <td>Leslie  Looney</td>\n",
              "      <td>University Of Illinois at Urbana-Champaign</td>\n",
              "      <td>Astronomy department</td>\n",
              "      <td>Champaign\\xe2\\x80\\x93Urbana</td>\n",
              "      <td>IL</td>\n",
              "      <td>11.0</td>\n",
              "      <td>4.7</td>\n",
              "      <td>2.0</td>\n",
              "      <td>Hilarious (2)  GROUP PROJECTS (2)  Gives good ...</td>\n",
              "      <td>26.0</td>\n",
              "      <td>...</td>\n",
              "      <td>0.0</td>\n",
              "      <td>1.0</td>\n",
              "      <td>0.0</td>\n",
              "      <td>0.0</td>\n",
              "      <td>0.0</td>\n",
              "      <td>0.0</td>\n",
              "      <td>0.053</td>\n",
              "      <td>0.531</td>\n",
              "      <td>0.415</td>\n",
              "      <td>0.9325</td>\n",
              "    </tr>\n",
              "    <tr>\n",
              "      <th>3</th>\n",
              "      <td>Leslie  Looney</td>\n",
              "      <td>University Of Illinois at Urbana-Champaign</td>\n",
              "      <td>Astronomy department</td>\n",
              "      <td>Champaign\\xe2\\x80\\x93Urbana</td>\n",
              "      <td>IL</td>\n",
              "      <td>11.0</td>\n",
              "      <td>4.7</td>\n",
              "      <td>2.0</td>\n",
              "      <td>Hilarious (2)  GROUP PROJECTS (2)  Gives good ...</td>\n",
              "      <td>26.0</td>\n",
              "      <td>...</td>\n",
              "      <td>0.0</td>\n",
              "      <td>1.0</td>\n",
              "      <td>0.0</td>\n",
              "      <td>0.0</td>\n",
              "      <td>0.0</td>\n",
              "      <td>0.0</td>\n",
              "      <td>0.035</td>\n",
              "      <td>0.684</td>\n",
              "      <td>0.281</td>\n",
              "      <td>0.9655</td>\n",
              "    </tr>\n",
              "    <tr>\n",
              "      <th>4</th>\n",
              "      <td>Leslie  Looney</td>\n",
              "      <td>University Of Illinois at Urbana-Champaign</td>\n",
              "      <td>Astronomy department</td>\n",
              "      <td>Champaign\\xe2\\x80\\x93Urbana</td>\n",
              "      <td>IL</td>\n",
              "      <td>11.0</td>\n",
              "      <td>4.7</td>\n",
              "      <td>2.0</td>\n",
              "      <td>Hilarious (2)  GROUP PROJECTS (2)  Gives good ...</td>\n",
              "      <td>26.0</td>\n",
              "      <td>...</td>\n",
              "      <td>0.0</td>\n",
              "      <td>1.0</td>\n",
              "      <td>0.0</td>\n",
              "      <td>0.0</td>\n",
              "      <td>0.0</td>\n",
              "      <td>0.0</td>\n",
              "      <td>0.026</td>\n",
              "      <td>0.549</td>\n",
              "      <td>0.426</td>\n",
              "      <td>0.9870</td>\n",
              "    </tr>\n",
              "  </tbody>\n",
              "</table>\n",
              "<p>5 rows × 50 columns</p>\n",
              "</div>\n",
              "      <button class=\"colab-df-convert\" onclick=\"convertToInteractive('df-db886606-671d-44b2-9c31-0d8d0c950bc9')\"\n",
              "              title=\"Convert this dataframe to an interactive table.\"\n",
              "              style=\"display:none;\">\n",
              "        \n",
              "  <svg xmlns=\"http://www.w3.org/2000/svg\" height=\"24px\"viewBox=\"0 0 24 24\"\n",
              "       width=\"24px\">\n",
              "    <path d=\"M0 0h24v24H0V0z\" fill=\"none\"/>\n",
              "    <path d=\"M18.56 5.44l.94 2.06.94-2.06 2.06-.94-2.06-.94-.94-2.06-.94 2.06-2.06.94zm-11 1L8.5 8.5l.94-2.06 2.06-.94-2.06-.94L8.5 2.5l-.94 2.06-2.06.94zm10 10l.94 2.06.94-2.06 2.06-.94-2.06-.94-.94-2.06-.94 2.06-2.06.94z\"/><path d=\"M17.41 7.96l-1.37-1.37c-.4-.4-.92-.59-1.43-.59-.52 0-1.04.2-1.43.59L10.3 9.45l-7.72 7.72c-.78.78-.78 2.05 0 2.83L4 21.41c.39.39.9.59 1.41.59.51 0 1.02-.2 1.41-.59l7.78-7.78 2.81-2.81c.8-.78.8-2.07 0-2.86zM5.41 20L4 18.59l7.72-7.72 1.47 1.35L5.41 20z\"/>\n",
              "  </svg>\n",
              "      </button>\n",
              "      \n",
              "  <style>\n",
              "    .colab-df-container {\n",
              "      display:flex;\n",
              "      flex-wrap:wrap;\n",
              "      gap: 12px;\n",
              "    }\n",
              "\n",
              "    .colab-df-convert {\n",
              "      background-color: #E8F0FE;\n",
              "      border: none;\n",
              "      border-radius: 50%;\n",
              "      cursor: pointer;\n",
              "      display: none;\n",
              "      fill: #1967D2;\n",
              "      height: 32px;\n",
              "      padding: 0 0 0 0;\n",
              "      width: 32px;\n",
              "    }\n",
              "\n",
              "    .colab-df-convert:hover {\n",
              "      background-color: #E2EBFA;\n",
              "      box-shadow: 0px 1px 2px rgba(60, 64, 67, 0.3), 0px 1px 3px 1px rgba(60, 64, 67, 0.15);\n",
              "      fill: #174EA6;\n",
              "    }\n",
              "\n",
              "    [theme=dark] .colab-df-convert {\n",
              "      background-color: #3B4455;\n",
              "      fill: #D2E3FC;\n",
              "    }\n",
              "\n",
              "    [theme=dark] .colab-df-convert:hover {\n",
              "      background-color: #434B5C;\n",
              "      box-shadow: 0px 1px 3px 1px rgba(0, 0, 0, 0.15);\n",
              "      filter: drop-shadow(0px 1px 2px rgba(0, 0, 0, 0.3));\n",
              "      fill: #FFFFFF;\n",
              "    }\n",
              "  </style>\n",
              "\n",
              "      <script>\n",
              "        const buttonEl =\n",
              "          document.querySelector('#df-db886606-671d-44b2-9c31-0d8d0c950bc9 button.colab-df-convert');\n",
              "        buttonEl.style.display =\n",
              "          google.colab.kernel.accessAllowed ? 'block' : 'none';\n",
              "\n",
              "        async function convertToInteractive(key) {\n",
              "          const element = document.querySelector('#df-db886606-671d-44b2-9c31-0d8d0c950bc9');\n",
              "          const dataTable =\n",
              "            await google.colab.kernel.invokeFunction('convertToInteractive',\n",
              "                                                     [key], {});\n",
              "          if (!dataTable) return;\n",
              "\n",
              "          const docLinkHtml = 'Like what you see? Visit the ' +\n",
              "            '<a target=\"_blank\" href=https://colab.research.google.com/notebooks/data_table.ipynb>data table notebook</a>'\n",
              "            + ' to learn more about interactive tables.';\n",
              "          element.innerHTML = '';\n",
              "          dataTable['output_type'] = 'display_data';\n",
              "          await google.colab.output.renderOutput(dataTable, element);\n",
              "          const docLink = document.createElement('div');\n",
              "          docLink.innerHTML = docLinkHtml;\n",
              "          element.appendChild(docLink);\n",
              "        }\n",
              "      </script>\n",
              "    </div>\n",
              "  </div>\n",
              "  "
            ]
          },
          "metadata": {},
          "execution_count": 99
        }
      ],
      "source": [
        "df.head()"
      ],
      "id": "0eef6edd"
    },
    {
      "cell_type": "code",
      "execution_count": 100,
      "metadata": {
        "id": "48b47474"
      },
      "outputs": [],
      "source": [
        "##compound value >0 is categorised as positve else negative\n",
        "\n",
        "df['sentiment'] = df['compound'].apply(lambda score: 1 if score>=0 else 0)"
      ],
      "id": "48b47474"
    },
    {
      "cell_type": "code",
      "execution_count": 101,
      "metadata": {
        "colab": {
          "base_uri": "https://localhost:8080/"
        },
        "id": "480ef4b9",
        "outputId": "b077776b-305b-4f51-c49d-6f1b8fc67648"
      },
      "outputs": [
        {
          "output_type": "execute_result",
          "data": {
            "text/plain": [
              "1    8508\n",
              "0    2984\n",
              "Name: sentiment, dtype: int64"
            ]
          },
          "metadata": {},
          "execution_count": 101
        }
      ],
      "source": [
        "##Data set contians imbalanced data\n",
        "df['sentiment'].value_counts()"
      ],
      "id": "480ef4b9"
    },
    {
      "cell_type": "code",
      "execution_count": 102,
      "metadata": {
        "id": "go0X2xhMW3tP"
      },
      "outputs": [],
      "source": [
        "stop_words = set(stopwords.words('english'))"
      ],
      "id": "go0X2xhMW3tP"
    },
    {
      "cell_type": "code",
      "execution_count": 103,
      "metadata": {
        "id": "BY0P4Mf4iIIo"
      },
      "outputs": [],
      "source": [
        "##Cleaning the text \n",
        "def preProcessing(text):\n",
        "    text=str(text)\n",
        "    #word tokenization\n",
        "    tokenized_train_data = text_to_word_sequence(text,filters='!\"#$%&()*+,./:;<=>?@[\\\\]^_`{|}~\\t\\n',split=\" \")\n",
        "    #stop word removal \n",
        "    stopwordremove = [i for i in tokenized_train_data if not i in stop_words]\n",
        "\n",
        "    #joining to sentence\n",
        "    stopwordremove_text = ' '.join(stopwordremove)\n",
        "\n",
        "    #remove numbers\n",
        "    numberRemove = ''.join(num for num in stopwordremove_text if not num.isdigit())\n",
        "    lemmatizer = WordNetLemmatizer()\n",
        "    lem_input = nltk.word_tokenize(numberRemove)\n",
        "\n",
        "    ##Lemmatize data\n",
        "    lem_text = ' '.join([lemmatizer.lemmatize(word) for word in lem_input])\n",
        "    return lem_text\n"
      ],
      "id": "BY0P4Mf4iIIo"
    },
    {
      "cell_type": "code",
      "execution_count": 104,
      "metadata": {
        "colab": {
          "base_uri": "https://localhost:8080/"
        },
        "id": "B2L2BPxvRPq2",
        "outputId": "44768ecd-1e1f-4719-8931-8a19eb150ebf"
      },
      "outputs": [
        {
          "output_type": "stream",
          "name": "stderr",
          "text": [
            "[nltk_data] Downloading package punkt to /root/nltk_data...\n",
            "[nltk_data]   Package punkt is already up-to-date!\n",
            "[nltk_data] Downloading package wordnet to /root/nltk_data...\n",
            "[nltk_data]   Package wordnet is already up-to-date!\n",
            "[nltk_data] Downloading package omw-1.4 to /root/nltk_data...\n",
            "[nltk_data]   Package omw-1.4 is already up-to-date!\n"
          ]
        }
      ],
      "source": [
        "nltk.download('punkt')\n",
        "nltk.download('wordnet')\n",
        "nltk.download('omw-1.4')\n",
        "\n",
        "for i,row in df.iterrows():\n",
        "  df.loc[i,'cleaned_comments'] = preProcessing(row['comments'])\n",
        "  "
      ],
      "id": "B2L2BPxvRPq2"
    },
    {
      "cell_type": "code",
      "execution_count": 105,
      "metadata": {
        "id": "amarIA9oC2N8"
      },
      "outputs": [],
      "source": [
        "pos = df[df['sentiment']==1]\n",
        "\n",
        "neg = df[df['sentiment']==0]"
      ],
      "id": "amarIA9oC2N8"
    },
    {
      "cell_type": "code",
      "execution_count": 106,
      "metadata": {
        "colab": {
          "base_uri": "https://localhost:8080/",
          "height": 198
        },
        "id": "beaa75a9",
        "outputId": "92c09457-0b29-4b94-8e00-18ab95212cd7"
      },
      "outputs": [
        {
          "output_type": "display_data",
          "data": {
            "text/plain": [
              "<Figure size 432x288 with 1 Axes>"
            ],
            "image/png": "[encoded data removed]"
          },
          "metadata": {
            "needs_background": "light"
          }
        }
      ],
      "source": [
        "##Wordcloud for positive words\n",
        "stopwords = set(stopwords.words('english'))\n",
        "\n",
        "positive = \" \".join(review for review in pos.tag_professor)\n",
        "wordcloud = WordCloud(stopwords=stopwords).generate(positive)\n",
        "plt.imshow(wordcloud, interpolation='bilinear')\n",
        "plt.axis(\"off\")\n",
        "plt.show()"
      ],
      "id": "beaa75a9"
    },
    {
      "cell_type": "code",
      "execution_count": 107,
      "metadata": {
        "colab": {
          "base_uri": "https://localhost:8080/",
          "height": 198
        },
        "id": "7lvagUFdD0lr",
        "outputId": "389e8b82-a910-41a2-b89f-3b471f87fd4f"
      },
      "outputs": [
        {
          "output_type": "display_data",
          "data": {
            "text/plain": [
              "<Figure size 432x288 with 1 Axes>"
            ],
            "image/png": "[encoded data removed]"
          },
          "metadata": {
            "needs_background": "light"
          }
        }
      ],
      "source": [
        "##Wordcloud for negative words\n",
        "\n",
        "negative = \" \".join(review for review in neg.tag_professor)\n",
        "wordcloud = WordCloud(stopwords=stopwords).generate(negative)\n",
        "plt.imshow(wordcloud, interpolation='bilinear')\n",
        "plt.axis(\"off\")\n",
        "plt.show()"
      ],
      "id": "7lvagUFdD0lr"
    },
    {
      "cell_type": "code",
      "execution_count": 108,
      "metadata": {
        "id": "64bac8c5"
      },
      "outputs": [],
      "source": [
        "##Adding textblob sentiment\n",
        "\n",
        "df['textblob_sentiment'] = df['comments'].apply(lambda comments: TextBlob(str(comments)).sentiment.polarity)"
      ],
      "id": "64bac8c5"
    },
    {
      "cell_type": "code",
      "execution_count": 109,
      "metadata": {
        "id": "9ee6e858"
      },
      "outputs": [],
      "source": [
        "df['txtblb_sentiment'] = df['textblob_sentiment'].apply(lambda score: 1 if score>=0 else 0)"
      ],
      "id": "9ee6e858"
    },
    {
      "cell_type": "code",
      "execution_count": 110,
      "metadata": {
        "colab": {
          "base_uri": "https://localhost:8080/"
        },
        "id": "347b1077",
        "outputId": "33649877-3704-4800-c0ee-651adad9cc79"
      },
      "outputs": [
        {
          "output_type": "execute_result",
          "data": {
            "text/plain": [
              "2060"
            ]
          },
          "metadata": {},
          "execution_count": 110
        }
      ],
      "source": [
        "##comparing textblob and vader\n",
        "sum(df['txtblb_sentiment']!=df['sentiment'])"
      ],
      "id": "347b1077"
    },
    {
      "cell_type": "code",
      "execution_count": 111,
      "metadata": {
        "id": "NfEduFEIWdKZ"
      },
      "outputs": [],
      "source": [
        "# amazon_rev = pd.read_csv('/content/amazon_cells_labelled.txt', header =None)\n",
        "##Reading in amazon labelled reviews\n",
        "with open('/content/amazon_cells_labelled.txt') as f:\n",
        "    amazon_reviews = f.readlines()\n",
        "\n",
        "  "
      ],
      "id": "NfEduFEIWdKZ"
    },
    {
      "cell_type": "code",
      "execution_count": 112,
      "metadata": {
        "id": "_PTGwAcKXNkS"
      },
      "outputs": [],
      "source": [
        "##Formatting data\n",
        "\n",
        "amazon_rev = pd.DataFrame(columns=['review','sentiment'])\n",
        "for i,r in enumerate(amazon_reviews):\n",
        "  temp = r.split('\\t')\n",
        "  amazon_rev.loc[i] = [temp[0], temp[1].strip()]\n",
        "\n"
      ],
      "id": "_PTGwAcKXNkS"
    },
    {
      "cell_type": "code",
      "execution_count": 113,
      "metadata": {
        "colab": {
          "base_uri": "https://localhost:8080/",
          "height": 206
        },
        "id": "t5iJ5lpZcCoi",
        "outputId": "da4227bc-28d2-4fe0-d3c6-ef72e6fa17a8"
      },
      "outputs": [
        {
          "output_type": "execute_result",
          "data": {
            "text/plain": [
              "                                              review sentiment\n",
              "0  So there is no way for me to plug it in here i...         0\n",
              "1                        Good case, Excellent value.         1\n",
              "2                             Great for the jawbone.         1\n",
              "3  Tied to charger for conversations lasting more...         0\n",
              "4                                  The mic is great.         1"
            ],
            "text/html": [
              "\n",
              "  <div id=\"df-9f8aa77c-ecde-4671-8d8b-413e5898776a\">\n",
              "    <div class=\"colab-df-container\">\n",
              "      <div>\n",
              "<style scoped>\n",
              "    .dataframe tbody tr th:only-of-type {\n",
              "        vertical-align: middle;\n",
              "    }\n",
              "\n",
              "    .dataframe tbody tr th {\n",
              "        vertical-align: top;\n",
              "    }\n",
              "\n",
              "    .dataframe thead th {\n",
              "        text-align: right;\n",
              "    }\n",
              "</style>\n",
              "<table border=\"1\" class=\"dataframe\">\n",
              "  <thead>\n",
              "    <tr style=\"text-align: right;\">\n",
              "      <th></th>\n",
              "      <th>review</th>\n",
              "      <th>sentiment</th>\n",
              "    </tr>\n",
              "  </thead>\n",
              "  <tbody>\n",
              "    <tr>\n",
              "      <th>0</th>\n",
              "      <td>So there is no way for me to plug it in here i...</td>\n",
              "      <td>0</td>\n",
              "    </tr>\n",
              "    <tr>\n",
              "      <th>1</th>\n",
              "      <td>Good case, Excellent value.</td>\n",
              "      <td>1</td>\n",
              "    </tr>\n",
              "    <tr>\n",
              "      <th>2</th>\n",
              "      <td>Great for the jawbone.</td>\n",
              "      <td>1</td>\n",
              "    </tr>\n",
              "    <tr>\n",
              "      <th>3</th>\n",
              "      <td>Tied to charger for conversations lasting more...</td>\n",
              "      <td>0</td>\n",
              "    </tr>\n",
              "    <tr>\n",
              "      <th>4</th>\n",
              "      <td>The mic is great.</td>\n",
              "      <td>1</td>\n",
              "    </tr>\n",
              "  </tbody>\n",
              "</table>\n",
              "</div>\n",
              "      <button class=\"colab-df-convert\" onclick=\"convertToInteractive('df-9f8aa77c-ecde-4671-8d8b-413e5898776a')\"\n",
              "              title=\"Convert this dataframe to an interactive table.\"\n",
              "              style=\"display:none;\">\n",
              "        \n",
              "  <svg xmlns=\"http://www.w3.org/2000/svg\" height=\"24px\"viewBox=\"0 0 24 24\"\n",
              "       width=\"24px\">\n",
              "    <path d=\"M0 0h24v24H0V0z\" fill=\"none\"/>\n",
              "    <path d=\"M18.56 5.44l.94 2.06.94-2.06 2.06-.94-2.06-.94-.94-2.06-.94 2.06-2.06.94zm-11 1L8.5 8.5l.94-2.06 2.06-.94-2.06-.94L8.5 2.5l-.94 2.06-2.06.94zm10 10l.94 2.06.94-2.06 2.06-.94-2.06-.94-.94-2.06-.94 2.06-2.06.94z\"/><path d=\"M17.41 7.96l-1.37-1.37c-.4-.4-.92-.59-1.43-.59-.52 0-1.04.2-1.43.59L10.3 9.45l-7.72 7.72c-.78.78-.78 2.05 0 2.83L4 21.41c.39.39.9.59 1.41.59.51 0 1.02-.2 1.41-.59l7.78-7.78 2.81-2.81c.8-.78.8-2.07 0-2.86zM5.41 20L4 18.59l7.72-7.72 1.47 1.35L5.41 20z\"/>\n",
              "  </svg>\n",
              "      </button>\n",
              "      \n",
              "  <style>\n",
              "    .colab-df-container {\n",
              "      display:flex;\n",
              "      flex-wrap:wrap;\n",
              "      gap: 12px;\n",
              "    }\n",
              "\n",
              "    .colab-df-convert {\n",
              "      background-color: #E8F0FE;\n",
              "      border: none;\n",
              "      border-radius: 50%;\n",
              "      cursor: pointer;\n",
              "      display: none;\n",
              "      fill: #1967D2;\n",
              "      height: 32px;\n",
              "      padding: 0 0 0 0;\n",
              "      width: 32px;\n",
              "    }\n",
              "\n",
              "    .colab-df-convert:hover {\n",
              "      background-color: #E2EBFA;\n",
              "      box-shadow: 0px 1px 2px rgba(60, 64, 67, 0.3), 0px 1px 3px 1px rgba(60, 64, 67, 0.15);\n",
              "      fill: #174EA6;\n",
              "    }\n",
              "\n",
              "    [theme=dark] .colab-df-convert {\n",
              "      background-color: #3B4455;\n",
              "      fill: #D2E3FC;\n",
              "    }\n",
              "\n",
              "    [theme=dark] .colab-df-convert:hover {\n",
              "      background-color: #434B5C;\n",
              "      box-shadow: 0px 1px 3px 1px rgba(0, 0, 0, 0.15);\n",
              "      filter: drop-shadow(0px 1px 2px rgba(0, 0, 0, 0.3));\n",
              "      fill: #FFFFFF;\n",
              "    }\n",
              "  </style>\n",
              "\n",
              "      <script>\n",
              "        const buttonEl =\n",
              "          document.querySelector('#df-9f8aa77c-ecde-4671-8d8b-413e5898776a button.colab-df-convert');\n",
              "        buttonEl.style.display =\n",
              "          google.colab.kernel.accessAllowed ? 'block' : 'none';\n",
              "\n",
              "        async function convertToInteractive(key) {\n",
              "          const element = document.querySelector('#df-9f8aa77c-ecde-4671-8d8b-413e5898776a');\n",
              "          const dataTable =\n",
              "            await google.colab.kernel.invokeFunction('convertToInteractive',\n",
              "                                                     [key], {});\n",
              "          if (!dataTable) return;\n",
              "\n",
              "          const docLinkHtml = 'Like what you see? Visit the ' +\n",
              "            '<a target=\"_blank\" href=https://colab.research.google.com/notebooks/data_table.ipynb>data table notebook</a>'\n",
              "            + ' to learn more about interactive tables.';\n",
              "          element.innerHTML = '';\n",
              "          dataTable['output_type'] = 'display_data';\n",
              "          await google.colab.output.renderOutput(dataTable, element);\n",
              "          const docLink = document.createElement('div');\n",
              "          docLink.innerHTML = docLinkHtml;\n",
              "          element.appendChild(docLink);\n",
              "        }\n",
              "      </script>\n",
              "    </div>\n",
              "  </div>\n",
              "  "
            ]
          },
          "metadata": {},
          "execution_count": 113
        }
      ],
      "source": [
        "amazon_rev.head()"
      ],
      "id": "t5iJ5lpZcCoi"
    },
    {
      "cell_type": "code",
      "execution_count": 114,
      "metadata": {
        "id": "9u_WGelOWbGA"
      },
      "outputs": [],
      "source": [
        "##Preprocessing data for amazon reviews\n",
        "for i, row in amazon_rev.iterrows():\n",
        "    amazon_rev.loc[i,'cleaned_comments'] = preProcessing(row['review'])"
      ],
      "id": "9u_WGelOWbGA"
    },
    {
      "cell_type": "code",
      "execution_count": 115,
      "metadata": {
        "colab": {
          "base_uri": "https://localhost:8080/",
          "height": 206
        },
        "id": "6ad36254",
        "outputId": "1fba2679-a0dc-41df-aac9-363a3f2ff07e"
      },
      "outputs": [
        {
          "output_type": "execute_result",
          "data": {
            "text/plain": [
              "                                              review sentiment\n",
              "0  One of the other reviewers has mentioned that ...  positive\n",
              "1  A wonderful little production. <br /><br />The...  positive\n",
              "2  I thought this was a wonderful way to spend ti...  positive\n",
              "3  Basically there's a family where a little boy ...  negative\n",
              "4  Petter Mattei's \"Love in the Time of Money\" is...  positive"
            ],
            "text/html": [
              "\n",
              "  <div id=\"df-65d00b1b-8b90-4b55-9b60-044fbd477dff\">\n",
              "    <div class=\"colab-df-container\">\n",
              "      <div>\n",
              "<style scoped>\n",
              "    .dataframe tbody tr th:only-of-type {\n",
              "        vertical-align: middle;\n",
              "    }\n",
              "\n",
              "    .dataframe tbody tr th {\n",
              "        vertical-align: top;\n",
              "    }\n",
              "\n",
              "    .dataframe thead th {\n",
              "        text-align: right;\n",
              "    }\n",
              "</style>\n",
              "<table border=\"1\" class=\"dataframe\">\n",
              "  <thead>\n",
              "    <tr style=\"text-align: right;\">\n",
              "      <th></th>\n",
              "      <th>review</th>\n",
              "      <th>sentiment</th>\n",
              "    </tr>\n",
              "  </thead>\n",
              "  <tbody>\n",
              "    <tr>\n",
              "      <th>0</th>\n",
              "      <td>One of the other reviewers has mentioned that ...</td>\n",
              "      <td>positive</td>\n",
              "    </tr>\n",
              "    <tr>\n",
              "      <th>1</th>\n",
              "      <td>A wonderful little production. &lt;br /&gt;&lt;br /&gt;The...</td>\n",
              "      <td>positive</td>\n",
              "    </tr>\n",
              "    <tr>\n",
              "      <th>2</th>\n",
              "      <td>I thought this was a wonderful way to spend ti...</td>\n",
              "      <td>positive</td>\n",
              "    </tr>\n",
              "    <tr>\n",
              "      <th>3</th>\n",
              "      <td>Basically there's a family where a little boy ...</td>\n",
              "      <td>negative</td>\n",
              "    </tr>\n",
              "    <tr>\n",
              "      <th>4</th>\n",
              "      <td>Petter Mattei's \"Love in the Time of Money\" is...</td>\n",
              "      <td>positive</td>\n",
              "    </tr>\n",
              "  </tbody>\n",
              "</table>\n",
              "</div>\n",
              "      <button class=\"colab-df-convert\" onclick=\"convertToInteractive('df-65d00b1b-8b90-4b55-9b60-044fbd477dff')\"\n",
              "              title=\"Convert this dataframe to an interactive table.\"\n",
              "              style=\"display:none;\">\n",
              "        \n",
              "  <svg xmlns=\"http://www.w3.org/2000/svg\" height=\"24px\"viewBox=\"0 0 24 24\"\n",
              "       width=\"24px\">\n",
              "    <path d=\"M0 0h24v24H0V0z\" fill=\"none\"/>\n",
              "    <path d=\"M18.56 5.44l.94 2.06.94-2.06 2.06-.94-2.06-.94-.94-2.06-.94 2.06-2.06.94zm-11 1L8.5 8.5l.94-2.06 2.06-.94-2.06-.94L8.5 2.5l-.94 2.06-2.06.94zm10 10l.94 2.06.94-2.06 2.06-.94-2.06-.94-.94-2.06-.94 2.06-2.06.94z\"/><path d=\"M17.41 7.96l-1.37-1.37c-.4-.4-.92-.59-1.43-.59-.52 0-1.04.2-1.43.59L10.3 9.45l-7.72 7.72c-.78.78-.78 2.05 0 2.83L4 21.41c.39.39.9.59 1.41.59.51 0 1.02-.2 1.41-.59l7.78-7.78 2.81-2.81c.8-.78.8-2.07 0-2.86zM5.41 20L4 18.59l7.72-7.72 1.47 1.35L5.41 20z\"/>\n",
              "  </svg>\n",
              "      </button>\n",
              "      \n",
              "  <style>\n",
              "    .colab-df-container {\n",
              "      display:flex;\n",
              "      flex-wrap:wrap;\n",
              "      gap: 12px;\n",
              "    }\n",
              "\n",
              "    .colab-df-convert {\n",
              "      background-color: #E8F0FE;\n",
              "      border: none;\n",
              "      border-radius: 50%;\n",
              "      cursor: pointer;\n",
              "      display: none;\n",
              "      fill: #1967D2;\n",
              "      height: 32px;\n",
              "      padding: 0 0 0 0;\n",
              "      width: 32px;\n",
              "    }\n",
              "\n",
              "    .colab-df-convert:hover {\n",
              "      background-color: #E2EBFA;\n",
              "      box-shadow: 0px 1px 2px rgba(60, 64, 67, 0.3), 0px 1px 3px 1px rgba(60, 64, 67, 0.15);\n",
              "      fill: #174EA6;\n",
              "    }\n",
              "\n",
              "    [theme=dark] .colab-df-convert {\n",
              "      background-color: #3B4455;\n",
              "      fill: #D2E3FC;\n",
              "    }\n",
              "\n",
              "    [theme=dark] .colab-df-convert:hover {\n",
              "      background-color: #434B5C;\n",
              "      box-shadow: 0px 1px 3px 1px rgba(0, 0, 0, 0.15);\n",
              "      filter: drop-shadow(0px 1px 2px rgba(0, 0, 0, 0.3));\n",
              "      fill: #FFFFFF;\n",
              "    }\n",
              "  </style>\n",
              "\n",
              "      <script>\n",
              "        const buttonEl =\n",
              "          document.querySelector('#df-65d00b1b-8b90-4b55-9b60-044fbd477dff button.colab-df-convert');\n",
              "        buttonEl.style.display =\n",
              "          google.colab.kernel.accessAllowed ? 'block' : 'none';\n",
              "\n",
              "        async function convertToInteractive(key) {\n",
              "          const element = document.querySelector('#df-65d00b1b-8b90-4b55-9b60-044fbd477dff');\n",
              "          const dataTable =\n",
              "            await google.colab.kernel.invokeFunction('convertToInteractive',\n",
              "                                                     [key], {});\n",
              "          if (!dataTable) return;\n",
              "\n",
              "          const docLinkHtml = 'Like what you see? Visit the ' +\n",
              "            '<a target=\"_blank\" href=https://colab.research.google.com/notebooks/data_table.ipynb>data table notebook</a>'\n",
              "            + ' to learn more about interactive tables.';\n",
              "          element.innerHTML = '';\n",
              "          dataTable['output_type'] = 'display_data';\n",
              "          await google.colab.output.renderOutput(dataTable, element);\n",
              "          const docLink = document.createElement('div');\n",
              "          docLink.innerHTML = docLinkHtml;\n",
              "          element.appendChild(docLink);\n",
              "        }\n",
              "      </script>\n",
              "    </div>\n",
              "  </div>\n",
              "  "
            ]
          },
          "metadata": {},
          "execution_count": 115
        }
      ],
      "source": [
        "###Reading imdb labelled reviews .\n",
        "\n",
        "review = pd.read_csv('/content/IMDB Dataset.csv')\n",
        "\n",
        "\n",
        "review.head()"
      ],
      "id": "6ad36254"
    },
    {
      "cell_type": "code",
      "execution_count": 116,
      "metadata": {
        "id": "a2bb2260"
      },
      "outputs": [],
      "source": [
        "##Converting strings to numeric form\n",
        "review['sentiment'] = review['sentiment'].map({'positive': 1, 'negative': 0})\n",
        "\n",
        "\n",
        "for i, row in review.iterrows():\n",
        "    review.loc[i,'cleaned_comments'] = preProcessing(row['review'])"
      ],
      "id": "a2bb2260"
    },
    {
      "cell_type": "code",
      "execution_count": 117,
      "metadata": {
        "colab": {
          "base_uri": "https://localhost:8080/"
        },
        "id": "tmSzwcZ2chEx",
        "outputId": "b502ba35-81a5-4a74-845c-3552f49f3aed"
      },
      "outputs": [
        {
          "output_type": "stream",
          "name": "stdout",
          "text": [
            "150000 3000\n"
          ]
        }
      ],
      "source": [
        "##Combining data \n",
        "data = review.append(amazon_rev)\n",
        "print(review.size, amazon_rev.size)\n",
        "\n",
        "\n",
        "#data.size\n",
        "\n",
        "data['sentiment']=data['sentiment'].astype('int')"
      ],
      "id": "tmSzwcZ2chEx"
    },
    {
      "cell_type": "code",
      "execution_count": 118,
      "metadata": {
        "colab": {
          "base_uri": "https://localhost:8080/",
          "height": 297
        },
        "id": "Fgjojv1TjnBY",
        "outputId": "92ec7002-6721-478a-cba5-ae6bcc9d3836"
      },
      "outputs": [
        {
          "output_type": "execute_result",
          "data": {
            "text/plain": [
              "<matplotlib.axes._subplots.AxesSubplot at 0x7ff650c9b690>"
            ]
          },
          "metadata": {},
          "execution_count": 118
        },
        {
          "output_type": "display_data",
          "data": {
            "text/plain": [
              "<Figure size 432x288 with 1 Axes>"
            ],
            "image/png": "[encoded data removed]"
          },
          "metadata": {
            "needs_background": "light"
          }
        }
      ],
      "source": [
        "#Higher star rating is associated with positive sentiment\n",
        "\n",
        "sns.boxplot(data=df, y='star_rating', x='sentiment')"
      ],
      "id": "Fgjojv1TjnBY"
    },
    {
      "cell_type": "code",
      "execution_count": 119,
      "metadata": {
        "colab": {
          "base_uri": "https://localhost:8080/"
        },
        "id": "GR5Jj6r6jh04",
        "outputId": "041719ce-405f-4269-b3ad-f3faf44cd66f"
      },
      "outputs": [
        {
          "output_type": "execute_result",
          "data": {
            "text/plain": [
              "616626"
            ]
          },
          "metadata": {},
          "execution_count": 119
        }
      ],
      "source": [
        "##Dropping outliers\n",
        "\n",
        "outlier_index = df[(df['sentiment']==1)& (df['star_rating']<1.7) ].index\n",
        "df.drop(outlier_index , inplace=True)\n",
        "\n",
        "\n",
        "df.size"
      ],
      "id": "GR5Jj6r6jh04"
    },
    {
      "cell_type": "code",
      "execution_count": 120,
      "metadata": {
        "colab": {
          "base_uri": "https://localhost:8080/",
          "height": 206
        },
        "id": "gUV1vL6gbmc4",
        "outputId": "d4485e37-6d1c-4982-9bbf-33db5056c2ec"
      },
      "outputs": [
        {
          "output_type": "execute_result",
          "data": {
            "text/plain": [
              "                                              review  sentiment  \\\n",
              "0  One of the other reviewers has mentioned that ...          1   \n",
              "1  A wonderful little production. <br /><br />The...          1   \n",
              "2  I thought this was a wonderful way to spend ti...          1   \n",
              "3  Basically there's a family where a little boy ...          0   \n",
              "4  Petter Mattei's \"Love in the Time of Money\" is...          1   \n",
              "\n",
              "                                    cleaned_comments  \n",
              "0  one reviewer mentioned watching oz episode hoo...  \n",
              "1  wonderful little production br br filming tech...  \n",
              "2  thought wonderful way spend time hot summer we...  \n",
              "3  basically there 's family little boy jake thin...  \n",
              "4  petter mattei 's love time money visually stun...  "
            ],
            "text/html": [
              "\n",
              "  <div id=\"df-fb18be62-af56-48a2-a605-b12d08c325f7\">\n",
              "    <div class=\"colab-df-container\">\n",
              "      <div>\n",
              "<style scoped>\n",
              "    .dataframe tbody tr th:only-of-type {\n",
              "        vertical-align: middle;\n",
              "    }\n",
              "\n",
              "    .dataframe tbody tr th {\n",
              "        vertical-align: top;\n",
              "    }\n",
              "\n",
              "    .dataframe thead th {\n",
              "        text-align: right;\n",
              "    }\n",
              "</style>\n",
              "<table border=\"1\" class=\"dataframe\">\n",
              "  <thead>\n",
              "    <tr style=\"text-align: right;\">\n",
              "      <th></th>\n",
              "      <th>review</th>\n",
              "      <th>sentiment</th>\n",
              "      <th>cleaned_comments</th>\n",
              "    </tr>\n",
              "  </thead>\n",
              "  <tbody>\n",
              "    <tr>\n",
              "      <th>0</th>\n",
              "      <td>One of the other reviewers has mentioned that ...</td>\n",
              "      <td>1</td>\n",
              "      <td>one reviewer mentioned watching oz episode hoo...</td>\n",
              "    </tr>\n",
              "    <tr>\n",
              "      <th>1</th>\n",
              "      <td>A wonderful little production. &lt;br /&gt;&lt;br /&gt;The...</td>\n",
              "      <td>1</td>\n",
              "      <td>wonderful little production br br filming tech...</td>\n",
              "    </tr>\n",
              "    <tr>\n",
              "      <th>2</th>\n",
              "      <td>I thought this was a wonderful way to spend ti...</td>\n",
              "      <td>1</td>\n",
              "      <td>thought wonderful way spend time hot summer we...</td>\n",
              "    </tr>\n",
              "    <tr>\n",
              "      <th>3</th>\n",
              "      <td>Basically there's a family where a little boy ...</td>\n",
              "      <td>0</td>\n",
              "      <td>basically there 's family little boy jake thin...</td>\n",
              "    </tr>\n",
              "    <tr>\n",
              "      <th>4</th>\n",
              "      <td>Petter Mattei's \"Love in the Time of Money\" is...</td>\n",
              "      <td>1</td>\n",
              "      <td>petter mattei 's love time money visually stun...</td>\n",
              "    </tr>\n",
              "  </tbody>\n",
              "</table>\n",
              "</div>\n",
              "      <button class=\"colab-df-convert\" onclick=\"convertToInteractive('df-fb18be62-af56-48a2-a605-b12d08c325f7')\"\n",
              "              title=\"Convert this dataframe to an interactive table.\"\n",
              "              style=\"display:none;\">\n",
              "        \n",
              "  <svg xmlns=\"http://www.w3.org/2000/svg\" height=\"24px\"viewBox=\"0 0 24 24\"\n",
              "       width=\"24px\">\n",
              "    <path d=\"M0 0h24v24H0V0z\" fill=\"none\"/>\n",
              "    <path d=\"M18.56 5.44l.94 2.06.94-2.06 2.06-.94-2.06-.94-.94-2.06-.94 2.06-2.06.94zm-11 1L8.5 8.5l.94-2.06 2.06-.94-2.06-.94L8.5 2.5l-.94 2.06-2.06.94zm10 10l.94 2.06.94-2.06 2.06-.94-2.06-.94-.94-2.06-.94 2.06-2.06.94z\"/><path d=\"M17.41 7.96l-1.37-1.37c-.4-.4-.92-.59-1.43-.59-.52 0-1.04.2-1.43.59L10.3 9.45l-7.72 7.72c-.78.78-.78 2.05 0 2.83L4 21.41c.39.39.9.59 1.41.59.51 0 1.02-.2 1.41-.59l7.78-7.78 2.81-2.81c.8-.78.8-2.07 0-2.86zM5.41 20L4 18.59l7.72-7.72 1.47 1.35L5.41 20z\"/>\n",
              "  </svg>\n",
              "      </button>\n",
              "      \n",
              "  <style>\n",
              "    .colab-df-container {\n",
              "      display:flex;\n",
              "      flex-wrap:wrap;\n",
              "      gap: 12px;\n",
              "    }\n",
              "\n",
              "    .colab-df-convert {\n",
              "      background-color: #E8F0FE;\n",
              "      border: none;\n",
              "      border-radius: 50%;\n",
              "      cursor: pointer;\n",
              "      display: none;\n",
              "      fill: #1967D2;\n",
              "      height: 32px;\n",
              "      padding: 0 0 0 0;\n",
              "      width: 32px;\n",
              "    }\n",
              "\n",
              "    .colab-df-convert:hover {\n",
              "      background-color: #E2EBFA;\n",
              "      box-shadow: 0px 1px 2px rgba(60, 64, 67, 0.3), 0px 1px 3px 1px rgba(60, 64, 67, 0.15);\n",
              "      fill: #174EA6;\n",
              "    }\n",
              "\n",
              "    [theme=dark] .colab-df-convert {\n",
              "      background-color: #3B4455;\n",
              "      fill: #D2E3FC;\n",
              "    }\n",
              "\n",
              "    [theme=dark] .colab-df-convert:hover {\n",
              "      background-color: #434B5C;\n",
              "      box-shadow: 0px 1px 3px 1px rgba(0, 0, 0, 0.15);\n",
              "      filter: drop-shadow(0px 1px 2px rgba(0, 0, 0, 0.3));\n",
              "      fill: #FFFFFF;\n",
              "    }\n",
              "  </style>\n",
              "\n",
              "      <script>\n",
              "        const buttonEl =\n",
              "          document.querySelector('#df-fb18be62-af56-48a2-a605-b12d08c325f7 button.colab-df-convert');\n",
              "        buttonEl.style.display =\n",
              "          google.colab.kernel.accessAllowed ? 'block' : 'none';\n",
              "\n",
              "        async function convertToInteractive(key) {\n",
              "          const element = document.querySelector('#df-fb18be62-af56-48a2-a605-b12d08c325f7');\n",
              "          const dataTable =\n",
              "            await google.colab.kernel.invokeFunction('convertToInteractive',\n",
              "                                                     [key], {});\n",
              "          if (!dataTable) return;\n",
              "\n",
              "          const docLinkHtml = 'Like what you see? Visit the ' +\n",
              "            '<a target=\"_blank\" href=https://colab.research.google.com/notebooks/data_table.ipynb>data table notebook</a>'\n",
              "            + ' to learn more about interactive tables.';\n",
              "          element.innerHTML = '';\n",
              "          dataTable['output_type'] = 'display_data';\n",
              "          await google.colab.output.renderOutput(dataTable, element);\n",
              "          const docLink = document.createElement('div');\n",
              "          docLink.innerHTML = docLinkHtml;\n",
              "          element.appendChild(docLink);\n",
              "        }\n",
              "      </script>\n",
              "    </div>\n",
              "  </div>\n",
              "  "
            ]
          },
          "metadata": {},
          "execution_count": 120
        }
      ],
      "source": [
        "data.head()"
      ],
      "id": "gUV1vL6gbmc4"
    },
    {
      "cell_type": "code",
      "execution_count": 121,
      "metadata": {
        "id": "uZjfURFQeCug"
      },
      "outputs": [],
      "source": [
        "df = df.dropna()"
      ],
      "id": "uZjfURFQeCug"
    },
    {
      "cell_type": "code",
      "execution_count": null,
      "metadata": {
        "id": "L-ojkFeWBb6S"
      },
      "outputs": [],
      "source": [
        "##Splitting data to test and train and vectorizing andscaling data.\n",
        "def split_prep_data():\n",
        "\n",
        "  # Training model on IMDB reviews\n",
        "  X = data['cleaned_comments']\n",
        "  y = data['sentiment']\n",
        "  X_train, X_test, y_train, y_test = train_test_split(X, y, test_size = 0.20, random_state = 0)\n",
        "\n",
        "  # count vectorizer:\n",
        "  vectorizer = CountVectorizer(token_pattern=r'\\b\\w+\\b')\n",
        "  #vectorizer = TfidfVectorizer()\n",
        "\n",
        "  train_matrix = vectorizer.fit_transform(X_train)\n",
        "  test_matrix = vectorizer.transform(X_test)\n",
        "\n",
        "  X_train = train_matrix\n",
        "  X_test = test_matrix\n",
        "\n",
        "  ##Scaling\n",
        "  scaler = StandardScaler(with_mean=False)\n",
        "  X_train = scaler.fit_transform(X_train)\n",
        "  X_test = scaler.transform(X_test)\n",
        "\n",
        "  return vectorizer ,scaler, X_train, y_train, X_test, y_test"
      ],
      "id": "L-ojkFeWBb6S"
    },
    {
      "cell_type": "code",
      "execution_count": null,
      "metadata": {
        "id": "24YMYGhiHKjP"
      },
      "outputs": [],
      "source": [
        "def testing_RMF(vectorizer,scaler, df):\n",
        "  ###Using the trained model to predict labels of Rate My professor reviews\n",
        "  df['cleaned_comments'].isna().sum()\n",
        "  \n",
        "  ###Testing on Professor reviews\n",
        "  X_test = df['cleaned_comments']\n",
        "  y_test = df['sentiment']\n",
        "\n",
        "  test_matrix = vectorizer.transform(X_test)\n",
        "  X_test = test_matrix\n",
        "  X_test = scaler.transform(X_test)\n",
        "\n",
        "  return X_test, y_test"
      ],
      "id": "24YMYGhiHKjP"
    },
    {
      "cell_type": "code",
      "execution_count": null,
      "metadata": {
        "id": "R4-UGtJ1BlQI"
      },
      "outputs": [],
      "source": [
        "vectorizer ,scaler, X_train, y_train, X_test, y_test = split_prep_data()\n"
      ],
      "id": "R4-UGtJ1BlQI"
    },
    {
      "cell_type": "code",
      "execution_count": null,
      "metadata": {
        "id": "JeREqn27p9Xr"
      },
      "outputs": [],
      "source": [
        "# Logistic Regression\n",
        "from sklearn.linear_model import LogisticRegression\n",
        "lr = LogisticRegression(solver='lbfgs', max_iter=6000, class_weight='balanced')"
      ],
      "id": "JeREqn27p9Xr"
    },
    {
      "cell_type": "markdown",
      "metadata": {
        "id": "NUQ7oEfUzzuV"
      },
      "source": [],
      "id": "NUQ7oEfUzzuV"
    },
    {
      "cell_type": "code",
      "execution_count": null,
      "metadata": {
        "colab": {
          "base_uri": "https://localhost:8080/"
        },
        "id": "2sgekj9jqB3N",
        "outputId": "2012af70-816b-4539-c6dd-7bf992e9a1a1"
      },
      "outputs": [
        {
          "data": {
            "text/plain": [
              "LogisticRegression(max_iter=6000)"
            ]
          },
          "execution_count": 133,
          "metadata": {},
          "output_type": "execute_result"
        }
      ],
      "source": [
        "## Training on IMDB reviews \n",
        "lr.fit(X_train,y_train)"
      ],
      "id": "2sgekj9jqB3N"
    },
    {
      "cell_type": "code",
      "execution_count": null,
      "metadata": {
        "colab": {
          "base_uri": "https://localhost:8080/"
        },
        "id": "wDaLPZG_qGri",
        "outputId": "8da41e75-ccc4-4b8c-ebac-f71d6ec73ce6"
      },
      "outputs": [
        {
          "name": "stdout",
          "output_type": "stream",
          "text": [
            "[0 1 0 ... 1 0 0]\n"
          ]
        }
      ],
      "source": [
        "## Testing IMDB review sentiment\n",
        "predictions = lr.predict(X_test)\n",
        "print(predictions)"
      ],
      "id": "wDaLPZG_qGri"
    },
    {
      "cell_type": "code",
      "execution_count": null,
      "metadata": {
        "colab": {
          "base_uri": "https://localhost:8080/"
        },
        "id": "hdjTXUF_qGzS",
        "outputId": "5310ae90-9186-40d3-ea86-1ffd09cbeda7"
      },
      "outputs": [
        {
          "name": "stdout",
          "output_type": "stream",
          "text": [
            "[[4246  722]\n",
            " [ 853 4379]]\n",
            "              precision    recall  f1-score   support\n",
            "\n",
            "           0       0.83      0.85      0.84      4968\n",
            "           1       0.86      0.84      0.85      5232\n",
            "\n",
            "    accuracy                           0.85     10200\n",
            "   macro avg       0.85      0.85      0.85     10200\n",
            "weighted avg       0.85      0.85      0.85     10200\n",
            "\n",
            "F1_score: 0.8475757282492984\n"
          ]
        }
      ],
      "source": [
        "##Accuracy of Logistic regression on IMDB reviews ( labelled data )\n",
        "from sklearn.metrics import confusion_matrix,classification_report\n",
        "import numpy as np\n",
        "\n",
        "# new = np.asarray(y_test)\n",
        "print(confusion_matrix(predictions,y_test))\n",
        "\n",
        "print(classification_report(predictions,y_test))\n",
        "#Accuracy 86%\n",
        "\n",
        "##F1-score for Logistic model on IMDB reviews\n",
        "from sklearn.metrics import confusion_matrix,classification_report, f1_score\n",
        "\n",
        "print(\"F1_score:\",f1_score(predictions,y_test))"
      ],
      "id": "hdjTXUF_qGzS"
    },
    {
      "cell_type": "code",
      "execution_count": null,
      "metadata": {
        "id": "ABXI_aozIaFq"
      },
      "outputs": [],
      "source": [
        "##Testing on RMF dataset using trained model\n",
        "X_test, y_test = testing_RMF(vectorizer,scaler, df)"
      ],
      "id": "ABXI_aozIaFq"
    },
    {
      "cell_type": "code",
      "execution_count": null,
      "metadata": {
        "id": "qWFgeUnjs46q"
      },
      "outputs": [],
      "source": [
        "predictions = lr.predict(X_test)"
      ],
      "id": "qWFgeUnjs46q"
    },
    {
      "cell_type": "code",
      "execution_count": null,
      "metadata": {
        "colab": {
          "base_uri": "https://localhost:8080/"
        },
        "id": "cD6zDRVw0Yrd",
        "outputId": "e6b14dbe-7855-4dd2-b17d-4ff41114edda"
      },
      "outputs": [
        {
          "name": "stdout",
          "output_type": "stream",
          "text": [
            "              precision    recall  f1-score   support\n",
            "\n",
            "           0       0.60      0.45      0.51      6983\n",
            "           1       0.74      0.84      0.78     12872\n",
            "\n",
            "    accuracy                           0.70     19855\n",
            "   macro avg       0.67      0.64      0.65     19855\n",
            "weighted avg       0.69      0.70      0.69     19855\n",
            "\n"
          ]
        }
      ],
      "source": [
        "##Comparing predictions with Vader\n",
        "confusion_matrix(predictions,y_test)\n",
        "\n",
        "print(classification_report(predictions,y_test))"
      ],
      "id": "cD6zDRVw0Yrd"
    },
    {
      "cell_type": "code",
      "execution_count": null,
      "metadata": {
        "colab": {
          "base_uri": "https://localhost:8080/"
        },
        "id": "OQflqjfn0ksM",
        "outputId": "8f46b380-8255-4ca2-d6c7-f700c800047f"
      },
      "outputs": [
        {
          "data": {
            "text/plain": [
              "0.7830922439485353"
            ]
          },
          "execution_count": 139,
          "metadata": {},
          "output_type": "execute_result"
        }
      ],
      "source": [
        "##F1-score for Logistic model on RMF reviews\n",
        "from sklearn.metrics import confusion_matrix,classification_report, f1_score\n",
        "\n",
        "f1_score(predictions,y_test)"
      ],
      "id": "OQflqjfn0ksM"
    },
    {
      "cell_type": "code",
      "execution_count": 122,
      "metadata": {
        "id": "3R_C8ebmFp-I"
      },
      "outputs": [],
      "source": [
        "##Training IMDB on Random forest\n",
        "vectorizer ,scaler, X_train, y_train, X_test, y_test = split_prep_data()"
      ],
      "id": "3R_C8ebmFp-I"
    },
    {
      "cell_type": "code",
      "execution_count": 123,
      "metadata": {
        "colab": {
          "base_uri": "https://localhost:8080/"
        },
        "id": "Ru74GsI-Fyk4",
        "outputId": "c2d92eb1-fb46-4a33-b0ea-1599d73ad54e"
      },
      "outputs": [
        {
          "output_type": "stream",
          "name": "stdout",
          "text": [
            "\n",
            "ACCURACY OF THE MODEL:  0.855686274509804\n",
            "F1_score: 0.8561094819159336\n"
          ]
        }
      ],
      "source": [
        "\n",
        "##Training random forest on IMDB dataset\n",
        "from sklearn.ensemble import RandomForestClassifier\n",
        "\n",
        "clf = RandomForestClassifier(n_estimators = 100, class_weight='balanced') \n",
        " \n",
        "# Training the model on the training dataset\n",
        "clf.fit(X_train, y_train)\n",
        " \n",
        "# predicti on the test dataset\n",
        "y_pred = clf.predict(X_test)\n",
        " \n",
        "# df['rnd_pred'] = y_pred\n",
        "# metrics are used to find accuracy or error\n",
        "from sklearn import metrics \n",
        "print()\n",
        " \n",
        "# using metrics module for accuracy calculation\n",
        "print(\"ACCURACY OF THE MODEL: \", metrics.accuracy_score(y_test, y_pred))\n",
        "\n",
        "print(\"F1_score:\",f1_score(y_pred,y_test))"
      ],
      "id": "Ru74GsI-Fyk4"
    },
    {
      "cell_type": "code",
      "execution_count": 124,
      "metadata": {
        "id": "_IVFqVpUGbLo"
      },
      "outputs": [],
      "source": [
        "X_test, y_test = testing_RMF(vectorizer,scaler, df)"
      ],
      "id": "_IVFqVpUGbLo"
    },
    {
      "cell_type": "code",
      "execution_count": 125,
      "metadata": {
        "colab": {
          "base_uri": "https://localhost:8080/"
        },
        "id": "bd0d9d3b",
        "outputId": "9e4352c1-c705-4470-8df7-bf1aa29593d3"
      },
      "outputs": [
        {
          "output_type": "stream",
          "name": "stdout",
          "text": [
            "\n",
            "ACCURACY OF THE MODEL:  0.7751577840112202\n",
            "F1_score: 0.8331490275157744\n"
          ]
        }
      ],
      "source": [
        "##Testing the model on RMF reviews\n",
        " \n",
        "# Training the model on the training dataset\n",
        "clf.fit(X_train, y_train)\n",
        " \n",
        "# predicti on the test dataset\n",
        "y_pred = clf.predict(X_test)\n",
        " \n",
        "# df['rnd_pred'] = y_pred\n",
        "# metrics are used to find accuracy or error\n",
        "from sklearn import metrics \n",
        "print()\n",
        " \n",
        "# using metrics module for accuracy calculation\n",
        "print(\"ACCURACY OF THE MODEL: \", metrics.accuracy_score(y_test, y_pred))\n",
        "\n",
        "print(\"F1_score:\", f1_score(y_pred,y_test))"
      ],
      "id": "bd0d9d3b"
    },
    {
      "cell_type": "code",
      "execution_count": 126,
      "metadata": {
        "id": "rOEu1jneZWCE"
      },
      "outputs": [],
      "source": [
        "##Training IMDB on KNN\n",
        "vectorizer ,scaler, X_train, y_train, X_test, y_test = split_prep_data()"
      ],
      "id": "rOEu1jneZWCE"
    },
    {
      "cell_type": "code",
      "execution_count": 131,
      "metadata": {
        "colab": {
          "base_uri": "https://localhost:8080/"
        },
        "id": "wZnQRaOtYRNS",
        "outputId": "c3704d98-58b0-4c00-abae-2c575d0f0ebe"
      },
      "outputs": [
        {
          "output_type": "stream",
          "name": "stdout",
          "text": [
            "\n",
            "ACCURACY OF THE MODEL:  0.5400980392156862\n",
            "F1_score: 0.6802099665962233\n"
          ]
        }
      ],
      "source": [
        "##Training KNN on IMDB dataset\n",
        "from sklearn.neighbors import KNeighborsClassifier\n",
        "\n",
        "knn = KNeighborsClassifier(n_neighbors=101) \n",
        " \n",
        "# Training the model on the training dataset\n",
        "knn.fit(X_train, y_train)\n",
        " \n",
        "# predicti on the test dataset\n",
        "y_pred = knn.predict(X_test)\n",
        " \n",
        "# df['rnd_pred'] = y_pred\n",
        "# metrics are used to find accuracy or error\n",
        "from sklearn import metrics \n",
        "print()\n",
        " \n",
        "# using metrics module for accuracy calculation\n",
        "print(\"ACCURACY OF THE MODEL: \", metrics.accuracy_score(y_test, y_pred))\n",
        "\n",
        "print(\"F1_score:\",f1_score(y_pred,y_test))"
      ],
      "id": "wZnQRaOtYRNS"
    },
    {
      "cell_type": "code",
      "execution_count": 132,
      "metadata": {
        "id": "9vmlsijIwR9m"
      },
      "outputs": [],
      "source": [
        "# error_rate = []\n",
        "# for i in range(1,40):\n",
        "#  knn = KNeighborsClassifier(n_neighbors=i)\n",
        "#  knn.fit(X_train,y_train)\n",
        "#  pred_i = knn.predict(X_test)\n",
        "#  error_rate.append(np.mean(pred_i != y_test))\n",
        "\n",
        "# plt.figure(figsize=(10,6))\n",
        "# plt.plot(range(1,40),error_rate,color='blue', linestyle='dashed', \n",
        "#          marker='o',markerfacecolor='red', markersize=10)\n",
        "# plt.title('Error Rate vs. K Value')\n",
        "# plt.xlabel('K')\n",
        "# plt.ylabel('Error Rate')\n",
        "# print(\"Minimum error:-\",min(error_rate),\"at K =\",error_rate.index(min(error_rate)))"
      ],
      "id": "9vmlsijIwR9m"
    },
    {
      "cell_type": "code",
      "execution_count": 133,
      "metadata": {
        "colab": {
          "base_uri": "https://localhost:8080/"
        },
        "id": "bC2peZYmZdmW",
        "outputId": "5cabb3f4-e645-4e3a-b536-7c0d4e16eb74"
      },
      "outputs": [
        {
          "output_type": "stream",
          "name": "stdout",
          "text": [
            "\n",
            "ACCURACY OF THE MODEL:  0.7391304347826086\n",
            "F1_score: 0.8497880072683223\n"
          ]
        }
      ],
      "source": [
        "X_test, y_test = testing_RMF(vectorizer,scaler, df)\n",
        "\n",
        "##Testing the model on RMF reviews\n",
        " \n",
        "# Training the model on the training dataset\n",
        "knn.fit(X_train, y_train)\n",
        " \n",
        "# predicti on the test dataset\n",
        "y_pred = knn.predict(X_test)\n",
        " \n",
        "\n",
        "# metrics are used to find accuracy or error\n",
        "from sklearn import metrics \n",
        "print()\n",
        " \n",
        "# using metrics module for accuracy calculation\n",
        "print(\"ACCURACY OF THE MODEL: \", metrics.accuracy_score(y_test, y_pred))\n",
        "\n",
        "print(\"F1_score:\", f1_score(y_pred,y_test))"
      ],
      "id": "bC2peZYmZdmW"
    },
    {
      "cell_type": "code",
      "execution_count": 134,
      "metadata": {
        "id": "RU1e46jZJLIV"
      },
      "outputs": [],
      "source": [
        "##Setting star_rating measures\n",
        "df = df[df['star_rating'] != 3]\n",
        "df['star_sentiment'] = df['star_rating'].apply(lambda rating : 1 if rating > 3 else 0)\n"
      ],
      "id": "RU1e46jZJLIV"
    },
    {
      "cell_type": "code",
      "execution_count": 135,
      "metadata": {
        "colab": {
          "base_uri": "https://localhost:8080/"
        },
        "id": "lPxzJCKcPD8Z",
        "outputId": "8f235484-548b-4f0a-a9fa-bb8a2d9ad10c"
      },
      "outputs": [
        {
          "output_type": "execute_result",
          "data": {
            "text/plain": [
              "2868"
            ]
          },
          "metadata": {},
          "execution_count": 135
        }
      ],
      "source": [
        "##comparing star ratinf with Vader sentiment\n",
        "sum(df['star_sentiment']!=df['sentiment'])\n"
      ],
      "id": "lPxzJCKcPD8Z"
    },
    {
      "cell_type": "markdown",
      "metadata": {
        "id": "hVV0XcsE-mLl"
      },
      "source": [
        "1. Vader on RMF, IMDB, Amazon reviews\n",
        "2. Trained and tested Logistic Regression on IMDB and Amazon sentiments and obtained accuracy and F1_score. \n",
        "3. Used trained Logistic Regression model on RMF reviews as test and obtained predictions.\n",
        "4. Trained and tested Random Forest on IMDB and Amazon sentiments and obtained accuracy and F1_score.\n",
        "5. Used trained Random Forest model on RMF reviews as test and obtained predictions.\n",
        "6. Trained and tested KNN on IMDB and Amazon sentiments and obtained accuracy and F1_score.\n",
        "7. Used trained KNN model on RMF reviews as test and obtained predictions.\n",
        "8. Trained and tested RNN on IMDB and Amazon sentiments and obtained accuracy and F1_score.\n",
        "9. Used trained RNN model on RMF reviews as test and obtained predictions.\n"
      ],
      "id": "hVV0XcsE-mLl"
    },
    {
      "cell_type": "code",
      "execution_count": 149,
      "metadata": {
        "id": "4cfde5ed",
        "colab": {
          "base_uri": "https://localhost:8080/"
        },
        "outputId": "d83acb0c-a929-4c88-a0f3-d9d37d35de0d"
      },
      "outputs": [
        {
          "output_type": "stream",
          "name": "stdout",
          "text": [
            "[[   0    0    0 ...  805   40   89]\n",
            " [   0    0    0 ...  396  603   74]\n",
            " [   0    0    0 ... 1330  275   18]\n",
            " ...\n",
            " [   0    0    0 ...    3 2207    1]\n",
            " [   0    0    0 ...    0    0  467]\n",
            " [   0    0    0 ...    0    0   66]]\n"
          ]
        }
      ],
      "source": [
        "###RNN\n",
        "from keras.models import Sequential\n",
        "from keras.layers import Dense, Embedding, LSTM, Dropout\n",
        "from sklearn.feature_extraction.text import CountVectorizer\n",
        "from keras.preprocessing.text import Tokenizer\n",
        "from keras_preprocessing.sequence import pad_sequences\n",
        "from keras.utils.np_utils import to_categorical\n",
        "import re\n",
        "\n",
        "from sklearn.model_selection import train_test_split\n",
        "\n",
        "from keras.preprocessing.text import Tokenizer\n",
        "from keras_preprocessing.sequence import pad_sequences\n",
        "from keras import regularizers\n",
        "\n",
        "max_words = 5000\n",
        "max_len = 200\n",
        "\n",
        "tokenizer = Tokenizer(num_words=max_words)\n",
        "tokenizer.fit_on_texts(df.cleaned_comments)\n",
        "sequences = tokenizer.texts_to_sequences(df.cleaned_comments)\n",
        "reviews = pad_sequences(sequences, maxlen=max_len)\n",
        "print(reviews)\n",
        "\n",
        "\n",
        "\n",
        "X_train, X_test, y_train, y_test = train_test_split(reviews, df.sentiment.values, test_size=0.2, random_state=101)\n",
        "\n",
        "\n",
        "\n",
        "\n"
      ],
      "id": "4cfde5ed"
    },
    {
      "cell_type": "code",
      "execution_count": 150,
      "metadata": {
        "colab": {
          "base_uri": "https://localhost:8080/"
        },
        "id": "G6vL2zEqntN3",
        "outputId": "378a001e-f6cf-4c8b-d007-6fed82e76c40"
      },
      "outputs": [
        {
          "output_type": "execute_result",
          "data": {
            "text/plain": [
              "{0: 1.9389755011135859, 1: 0.6737347159882371}"
            ]
          },
          "metadata": {},
          "execution_count": 150
        }
      ],
      "source": [
        "from sklearn.utils import class_weight\n",
        "\n",
        "# class_weights = class_weight.compute_class_weight('balanced',\n",
        "#                                                  np.unique(y_train),\n",
        "#                                                  y_train)\n",
        "\n",
        "class_weights = class_weight.compute_class_weight(\n",
        "                                        class_weight = \"balanced\",\n",
        "                                        classes = np.unique(y_train),\n",
        "                                        y = y_train                                                    \n",
        "                                    )\n",
        "class_weights = dict(zip(np.unique(y_train), class_weights))\n",
        "class_weights\n"
      ],
      "id": "G6vL2zEqntN3"
    },
    {
      "cell_type": "code",
      "execution_count": 151,
      "metadata": {
        "id": "ZZYVeABJoaVK",
        "colab": {
          "base_uri": "https://localhost:8080/"
        },
        "outputId": "2bf25e6f-10f5-441f-9db6-d0d711e39c3b"
      },
      "outputs": [
        {
          "output_type": "stream",
          "name": "stderr",
          "text": [
            "WARNING:tensorflow:`period` argument is deprecated. Please use `save_freq` to specify the frequency in number of batches seen.\n"
          ]
        },
        {
          "output_type": "stream",
          "name": "stdout",
          "text": [
            "Epoch 1/10\n",
            "273/273 [==============================] - ETA: 0s - loss: 0.4967 - accuracy: 0.7619 - f1_score: 0.8245 - precision: 0.8839 - recall: 0.7882\n",
            "Epoch 1: val_accuracy improved from -inf to 0.80202, saving model to rnn_model.hdf5\n",
            "273/273 [==============================] - 55s 186ms/step - loss: 0.4967 - accuracy: 0.7619 - f1_score: 0.8245 - precision: 0.8839 - recall: 0.7882 - val_loss: 0.4244 - val_accuracy: 0.8020 - val_f1_score: 0.8544 - val_precision: 0.9608 - val_recall: 0.7727\n",
            "Epoch 2/10\n",
            "273/273 [==============================] - ETA: 0s - loss: 0.2732 - accuracy: 0.8800 - f1_score: 0.9110 - precision: 0.9513 - recall: 0.8777\n",
            "Epoch 2: val_accuracy improved from 0.80202 to 0.85025, saving model to rnn_model.hdf5\n",
            "273/273 [==============================] - 50s 183ms/step - loss: 0.2732 - accuracy: 0.8800 - f1_score: 0.9110 - precision: 0.9513 - recall: 0.8777 - val_loss: 0.3464 - val_accuracy: 0.8503 - val_f1_score: 0.8937 - val_precision: 0.9517 - val_recall: 0.8458\n",
            "Epoch 3/10\n",
            "273/273 [==============================] - ETA: 0s - loss: 0.2114 - accuracy: 0.9160 - f1_score: 0.9402 - precision: 0.9689 - recall: 0.9164\n",
            "Epoch 3: val_accuracy improved from 0.85025 to 0.87230, saving model to rnn_model.hdf5\n",
            "273/273 [==============================] - 51s 186ms/step - loss: 0.2114 - accuracy: 0.9160 - f1_score: 0.9402 - precision: 0.9689 - recall: 0.9164 - val_loss: 0.2962 - val_accuracy: 0.8723 - val_f1_score: 0.9141 - val_precision: 0.9255 - val_recall: 0.9061\n",
            "Epoch 4/10\n",
            "273/273 [==============================] - ETA: 0s - loss: 0.1517 - accuracy: 0.9428 - f1_score: 0.9564 - precision: 0.9761 - recall: 0.9394\n",
            "Epoch 4: val_accuracy did not improve from 0.87230\n",
            "273/273 [==============================] - 51s 188ms/step - loss: 0.1517 - accuracy: 0.9428 - f1_score: 0.9564 - precision: 0.9761 - recall: 0.9394 - val_loss: 0.3145 - val_accuracy: 0.8709 - val_f1_score: 0.9130 - val_precision: 0.9240 - val_recall: 0.9052\n",
            "Epoch 5/10\n",
            "273/273 [==============================] - ETA: 0s - loss: 0.1172 - accuracy: 0.9559 - f1_score: 0.9695 - precision: 0.9853 - recall: 0.9555\n",
            "Epoch 5: val_accuracy did not improve from 0.87230\n",
            "273/273 [==============================] - 49s 180ms/step - loss: 0.1172 - accuracy: 0.9559 - f1_score: 0.9695 - precision: 0.9853 - recall: 0.9555 - val_loss: 0.3906 - val_accuracy: 0.8700 - val_f1_score: 0.9133 - val_precision: 0.9116 - val_recall: 0.9172\n",
            "Epoch 6/10\n",
            "273/273 [==============================] - ETA: 0s - loss: 0.0926 - accuracy: 0.9645 - f1_score: 0.9754 - precision: 0.9871 - recall: 0.9648\n",
            "Epoch 6: val_accuracy did not improve from 0.87230\n",
            "273/273 [==============================] - 49s 180ms/step - loss: 0.0926 - accuracy: 0.9645 - f1_score: 0.9754 - precision: 0.9871 - recall: 0.9648 - val_loss: 0.4230 - val_accuracy: 0.8691 - val_f1_score: 0.9119 - val_precision: 0.9225 - val_recall: 0.9040\n",
            "Epoch 7/10\n",
            "273/273 [==============================] - ETA: 0s - loss: 0.0730 - accuracy: 0.9728 - f1_score: 0.9810 - precision: 0.9906 - recall: 0.9724\n",
            "Epoch 7: val_accuracy did not improve from 0.87230\n",
            "273/273 [==============================] - 51s 188ms/step - loss: 0.0730 - accuracy: 0.9728 - f1_score: 0.9810 - precision: 0.9906 - recall: 0.9724 - val_loss: 0.6305 - val_accuracy: 0.8489 - val_f1_score: 0.8966 - val_precision: 0.9205 - val_recall: 0.8765\n",
            "Epoch 8/10\n",
            "273/273 [==============================] - ETA: 0s - loss: 0.0727 - accuracy: 0.9720 - f1_score: 0.9805 - precision: 0.9913 - recall: 0.9712\n",
            "Epoch 8: val_accuracy did not improve from 0.87230\n",
            "273/273 [==============================] - 50s 183ms/step - loss: 0.0727 - accuracy: 0.9720 - f1_score: 0.9805 - precision: 0.9913 - recall: 0.9712 - val_loss: 0.6090 - val_accuracy: 0.8599 - val_f1_score: 0.9053 - val_precision: 0.9226 - val_recall: 0.8909\n",
            "Epoch 9/10\n",
            "273/273 [==============================] - ETA: 0s - loss: 0.0600 - accuracy: 0.9758 - f1_score: 0.9834 - precision: 0.9918 - recall: 0.9759\n",
            "Epoch 9: val_accuracy did not improve from 0.87230\n",
            "273/273 [==============================] - 53s 196ms/step - loss: 0.0600 - accuracy: 0.9758 - f1_score: 0.9834 - precision: 0.9918 - recall: 0.9759 - val_loss: 0.6061 - val_accuracy: 0.8530 - val_f1_score: 0.8991 - val_precision: 0.9283 - val_recall: 0.8742\n",
            "Epoch 10/10\n",
            "273/273 [==============================] - ETA: 0s - loss: 0.0521 - accuracy: 0.9792 - f1_score: 0.9857 - precision: 0.9923 - recall: 0.9797\n",
            "Epoch 10: val_accuracy did not improve from 0.87230\n",
            "273/273 [==============================] - 51s 186ms/step - loss: 0.0521 - accuracy: 0.9792 - f1_score: 0.9857 - precision: 0.9923 - recall: 0.9797 - val_loss: 0.5590 - val_accuracy: 0.8636 - val_f1_score: 0.9092 - val_precision: 0.9097 - val_recall: 0.9118\n"
          ]
        }
      ],
      "source": [
        "from keras.models import Sequential,load_model\n",
        "from keras import layers\n",
        "from keras import regularizers\n",
        "from keras import backend as K\n",
        "from keras.callbacks import Callback,ModelCheckpoint\n",
        "from keras.layers import Dense, Dropout\n",
        "from keras.wrappers.scikit_learn import KerasClassifier\n",
        "\n",
        "##Compute f1-score\n",
        "def f1_score(y_true, y_pred):\n",
        "    true_positives = K.sum(K.round(K.clip(y_true * y_pred, 0, 1)))\n",
        "    possible_positives = K.sum(K.round(K.clip(y_true, 0, 1)))\n",
        "    predicted_positives = K.sum(K.round(K.clip(y_pred, 0, 1)))\n",
        "    precision = true_positives / (predicted_positives + K.epsilon())\n",
        "    recall = true_positives / (possible_positives + K.epsilon())\n",
        "    f1_val = 2*(precision*recall)/(precision+recall+K.epsilon())\n",
        "    return f1_val\n",
        "\n",
        "##Compute precision\n",
        "def precision(y_true, y_pred):\n",
        "    true_positives = K.sum(K.round(K.clip(y_true * y_pred, 0, 1)))\n",
        "    predicted_positives = K.sum(K.round(K.clip(y_pred, 0, 1)))\n",
        "    precision = true_positives / (predicted_positives + K.epsilon())\n",
        "    return precision\n",
        "\n",
        "##Compute REcall\n",
        "def recall(y_true, y_pred): \n",
        "    true_positives = K.sum(K.round(K.clip(y_true * y_pred, 0, 1)))\n",
        "    possible_positives = K.sum(K.round(K.clip(y_true, 0, 1)))\n",
        "    recall = true_positives / (possible_positives + K.epsilon())\n",
        "    return recall\n",
        "\n",
        "\n",
        "\n",
        "model = Sequential()\n",
        "model.add(layers.Embedding(max_words, 128))\n",
        "model.add(layers.LSTM(64,dropout=0.5))\n",
        "model.add(layers.Dense(16, activation='relu'))\n",
        "model.add(layers.Dense(8, activation='relu'))\n",
        "model.add(layers.Dense(1,activation='sigmoid'))\n",
        "model.compile(optimizer='adam',loss='binary_crossentropy', metrics=['accuracy',f1_score,precision,recall])\n",
        "checkpoint = ModelCheckpoint(\"rnn_model.hdf5\", monitor='val_accuracy', verbose=1,save_best_only=True, mode='auto', period=1,save_weights_only=False)\n",
        "output = model.fit(X_train, y_train, epochs=10,validation_data=(X_test, y_test),callbacks=[checkpoint],class_weight=class_weights)\n",
        "\n",
        "\n",
        "\n"
      ],
      "id": "ZZYVeABJoaVK"
    },
    {
      "cell_type": "code",
      "source": [
        "loss, accuracy, f1_score,precision,recall = model.evaluate(X_test, y_test, verbose=0)\n",
        "print('Loss: %f' % (loss))\n",
        "print('Accuracy: %f' % (accuracy))\n",
        "print('F1-score: %f' % (f1_score))\n",
        "print('Precision: %f' % (precision))\n",
        "print('Recall: %f' % (recall))"
      ],
      "metadata": {
        "colab": {
          "base_uri": "https://localhost:8080/"
        },
        "id": "PRMjsUUhYSWC",
        "outputId": "0a7fce0e-1a65-4d89-8933-03454a61f8b4"
      },
      "id": "PRMjsUUhYSWC",
      "execution_count": 152,
      "outputs": [
        {
          "output_type": "stream",
          "name": "stdout",
          "text": [
            "Loss: 0.558962\n",
            "Accuracy: 0.863574\n",
            "F1-score: 0.909169\n",
            "Precision: 0.909706\n",
            "Recall: 0.911845\n"
          ]
        }
      ]
    },
    {
      "cell_type": "code",
      "source": [
        "##predicting sample sentence sentiments\n",
        "\n",
        "sequence = tokenizer.texts_to_sequences(['He is HORRIBLE!!!!! Do not take him if you can. His tests are very hard and nothing is multiple choice and he has other students grade his work because he can\\'t! He has even lost students work!'])\n",
        "test = pad_sequences(sequence, maxlen=max_len)\n",
        "pred = model.predict(test)\n",
        "if pred > 0.5:\n",
        "  print('Positive')\n",
        "else:\n",
        "  print('Negative')\n"
      ],
      "metadata": {
        "colab": {
          "base_uri": "https://localhost:8080/"
        },
        "id": "wAPn5v8WYJC3",
        "outputId": "16f1749a-f70d-4817-dc5e-0c8037a46319"
      },
      "id": "wAPn5v8WYJC3",
      "execution_count": 153,
      "outputs": [
        {
          "output_type": "stream",
          "name": "stdout",
          "text": [
            "1/1 [==============================] - 1s 614ms/step\n",
            "Negative\n"
          ]
        }
      ]
    },
    {
      "cell_type": "code",
      "source": [
        "##predicting sample sentence sentiments\n",
        "\n",
        "sequence = tokenizer.texts_to_sequences(['Excellent professor. Hilarious, fun, and good.'])\n",
        "test = pad_sequences(sequence, maxlen=max_len)\n",
        "pred = model.predict(test)\n",
        "if pred > 0.5:\n",
        "  print('Positive')\n",
        "else:\n",
        "  print('Negative')\n",
        "# print(pred)"
      ],
      "metadata": {
        "colab": {
          "base_uri": "https://localhost:8080/"
        },
        "id": "ZX7cr0B7d2sq",
        "outputId": "8812d4dd-2519-496b-ad8d-ab5bbd5a0371"
      },
      "id": "ZX7cr0B7d2sq",
      "execution_count": 154,
      "outputs": [
        {
          "output_type": "stream",
          "name": "stdout",
          "text": [
            "1/1 [==============================] - 0s 34ms/step\n",
            "Positive\n"
          ]
        }
      ]
    },
    {
      "cell_type": "code",
      "source": [],
      "metadata": {
        "id": "qCM_7kkjn-O2"
      },
      "id": "qCM_7kkjn-O2",
      "execution_count": null,
      "outputs": []
    }
  ],
  "metadata": {
    "colab": {
      "provenance": []
    },
    "kernelspec": {
      "display_name": "Python 3 (ipykernel)",
      "language": "python",
      "name": "python3"
    },
    "language_info": {
      "codemirror_mode": {
        "name": "ipython",
        "version": 3
      },
      "file_extension": ".py",
      "mimetype": "text/x-python",
      "name": "python",
      "nbconvert_exporter": "python",
      "pygments_lexer": "ipython3",
      "version": "3.8.5"
    }
  },
  "nbformat": 4,
  "nbformat_minor": 5
}